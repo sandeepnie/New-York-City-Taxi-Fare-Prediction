{
 "cells": [
  {
   "cell_type": "markdown",
   "metadata": {},
   "source": [
    "## New York City Taxi Fare Prediction\n",
    "\n",
    "This is the open data set available in Kaggle. The data set is pretty large but we will not be utilizing all the records. We will be importing only 1 million records and will work on this small chunk.\n",
    "\n",
    "Here our task is predicting the fare amount (inclusive of tolls) for a taxi ride in New York City given the pickup and dropoff locations. While we can get a basic estimate based on just the distance between the two points, this will result in an RMSE of $5-$8, depending on the model used. Our challenge is to do better than this using Machine Learning techniques!\n",
    "\n",
    "Data's link here: \n",
    "https://www.kaggle.com/c/new-york-city-taxi-fare-prediction/data"
   ]
  },
  {
   "cell_type": "code",
   "execution_count": 1,
   "metadata": {},
   "outputs": [
    {
     "name": "stdout",
     "output_type": "stream",
     "text": [
      "['GCP-Coupons-Instructions.rtf', 'sample_submission.csv', 'test.csv', 'train.csv']\n"
     ]
    }
   ],
   "source": [
    "# This Python 3 environment comes with many helpful analytics libraries installed\n",
    "import numpy as np \n",
    "import pandas as pd\n",
    "import sklearn\n",
    "import seaborn as sns\n",
    "import matplotlib.pyplot as plt\n",
    "\n",
    "import os\n",
    "print(os.listdir(\"C:/Sandeep/Data Science Data Sets/Kaggle/New York City Taxi Fare Prediction\"))\n",
    "# Any results you write to the current directory are saved as output."
   ]
  },
  {
   "cell_type": "code",
   "execution_count": 2,
   "metadata": {},
   "outputs": [],
   "source": [
    "#laod the training and test data\n",
    "\n",
    "train = pd.read_csv(\"C:/Sandeep/Data Science Data Sets/Kaggle/New York City Taxi Fare Prediction/train.csv\", nrows = 1000000 )\n",
    "test = pd.read_csv(\"C:/Sandeep/Data Science Data Sets/Kaggle/New York City Taxi Fare Prediction/test.csv\")"
   ]
  },
  {
   "cell_type": "markdown",
   "metadata": {},
   "source": [
    "### DATA CLEANSING & EXPLORATORY DATA ANALYSIS (EDA)\n",
    "\n",
    "#### Will perform the following activities\n",
    "\n",
    "- Shape of train and test sets\n",
    "- Check for NaNs and drop them (if any)\n",
    "- Check for outliers and drop them (if any)\n",
    "- Type conversion of relevant fields"
   ]
  },
  {
   "cell_type": "code",
   "execution_count": 3,
   "metadata": {},
   "outputs": [
    {
     "name": "stdout",
     "output_type": "stream",
     "text": [
      "Training data shapre (1000000, 8)\n",
      "Testing data shapre (9914, 7)\n"
     ]
    }
   ],
   "source": [
    "print(\"Training data shapre {}\".format(train.shape))\n",
    "print(\"Testing data shapre {}\".format(test.shape))"
   ]
  },
  {
   "cell_type": "code",
   "execution_count": 4,
   "metadata": {},
   "outputs": [
    {
     "data": {
      "text/html": [
       "<div>\n",
       "<style scoped>\n",
       "    .dataframe tbody tr th:only-of-type {\n",
       "        vertical-align: middle;\n",
       "    }\n",
       "\n",
       "    .dataframe tbody tr th {\n",
       "        vertical-align: top;\n",
       "    }\n",
       "\n",
       "    .dataframe thead th {\n",
       "        text-align: right;\n",
       "    }\n",
       "</style>\n",
       "<table border=\"1\" class=\"dataframe\">\n",
       "  <thead>\n",
       "    <tr style=\"text-align: right;\">\n",
       "      <th></th>\n",
       "      <th>key</th>\n",
       "      <th>fare_amount</th>\n",
       "      <th>pickup_datetime</th>\n",
       "      <th>pickup_longitude</th>\n",
       "      <th>pickup_latitude</th>\n",
       "      <th>dropoff_longitude</th>\n",
       "      <th>dropoff_latitude</th>\n",
       "      <th>passenger_count</th>\n",
       "    </tr>\n",
       "  </thead>\n",
       "  <tbody>\n",
       "    <tr>\n",
       "      <th>0</th>\n",
       "      <td>2009-06-15 17:26:21.0000001</td>\n",
       "      <td>4.5</td>\n",
       "      <td>2009-06-15 17:26:21 UTC</td>\n",
       "      <td>-73.844311</td>\n",
       "      <td>40.721319</td>\n",
       "      <td>-73.841610</td>\n",
       "      <td>40.712278</td>\n",
       "      <td>1</td>\n",
       "    </tr>\n",
       "    <tr>\n",
       "      <th>1</th>\n",
       "      <td>2010-01-05 16:52:16.0000002</td>\n",
       "      <td>16.9</td>\n",
       "      <td>2010-01-05 16:52:16 UTC</td>\n",
       "      <td>-74.016048</td>\n",
       "      <td>40.711303</td>\n",
       "      <td>-73.979268</td>\n",
       "      <td>40.782004</td>\n",
       "      <td>1</td>\n",
       "    </tr>\n",
       "    <tr>\n",
       "      <th>2</th>\n",
       "      <td>2011-08-18 00:35:00.00000049</td>\n",
       "      <td>5.7</td>\n",
       "      <td>2011-08-18 00:35:00 UTC</td>\n",
       "      <td>-73.982738</td>\n",
       "      <td>40.761270</td>\n",
       "      <td>-73.991242</td>\n",
       "      <td>40.750562</td>\n",
       "      <td>2</td>\n",
       "    </tr>\n",
       "    <tr>\n",
       "      <th>3</th>\n",
       "      <td>2012-04-21 04:30:42.0000001</td>\n",
       "      <td>7.7</td>\n",
       "      <td>2012-04-21 04:30:42 UTC</td>\n",
       "      <td>-73.987130</td>\n",
       "      <td>40.733143</td>\n",
       "      <td>-73.991567</td>\n",
       "      <td>40.758092</td>\n",
       "      <td>1</td>\n",
       "    </tr>\n",
       "    <tr>\n",
       "      <th>4</th>\n",
       "      <td>2010-03-09 07:51:00.000000135</td>\n",
       "      <td>5.3</td>\n",
       "      <td>2010-03-09 07:51:00 UTC</td>\n",
       "      <td>-73.968095</td>\n",
       "      <td>40.768008</td>\n",
       "      <td>-73.956655</td>\n",
       "      <td>40.783762</td>\n",
       "      <td>1</td>\n",
       "    </tr>\n",
       "    <tr>\n",
       "      <th>5</th>\n",
       "      <td>2011-01-06 09:50:45.0000002</td>\n",
       "      <td>12.1</td>\n",
       "      <td>2011-01-06 09:50:45 UTC</td>\n",
       "      <td>-74.000964</td>\n",
       "      <td>40.731630</td>\n",
       "      <td>-73.972892</td>\n",
       "      <td>40.758233</td>\n",
       "      <td>1</td>\n",
       "    </tr>\n",
       "    <tr>\n",
       "      <th>6</th>\n",
       "      <td>2012-11-20 20:35:00.0000001</td>\n",
       "      <td>7.5</td>\n",
       "      <td>2012-11-20 20:35:00 UTC</td>\n",
       "      <td>-73.980002</td>\n",
       "      <td>40.751662</td>\n",
       "      <td>-73.973802</td>\n",
       "      <td>40.764842</td>\n",
       "      <td>1</td>\n",
       "    </tr>\n",
       "    <tr>\n",
       "      <th>7</th>\n",
       "      <td>2012-01-04 17:22:00.00000081</td>\n",
       "      <td>16.5</td>\n",
       "      <td>2012-01-04 17:22:00 UTC</td>\n",
       "      <td>-73.951300</td>\n",
       "      <td>40.774138</td>\n",
       "      <td>-73.990095</td>\n",
       "      <td>40.751048</td>\n",
       "      <td>1</td>\n",
       "    </tr>\n",
       "    <tr>\n",
       "      <th>8</th>\n",
       "      <td>2012-12-03 13:10:00.000000125</td>\n",
       "      <td>9.0</td>\n",
       "      <td>2012-12-03 13:10:00 UTC</td>\n",
       "      <td>-74.006462</td>\n",
       "      <td>40.726713</td>\n",
       "      <td>-73.993078</td>\n",
       "      <td>40.731628</td>\n",
       "      <td>1</td>\n",
       "    </tr>\n",
       "    <tr>\n",
       "      <th>9</th>\n",
       "      <td>2009-09-02 01:11:00.00000083</td>\n",
       "      <td>8.9</td>\n",
       "      <td>2009-09-02 01:11:00 UTC</td>\n",
       "      <td>-73.980658</td>\n",
       "      <td>40.733873</td>\n",
       "      <td>-73.991540</td>\n",
       "      <td>40.758138</td>\n",
       "      <td>2</td>\n",
       "    </tr>\n",
       "  </tbody>\n",
       "</table>\n",
       "</div>"
      ],
      "text/plain": [
       "                             key  fare_amount          pickup_datetime  \\\n",
       "0    2009-06-15 17:26:21.0000001          4.5  2009-06-15 17:26:21 UTC   \n",
       "1    2010-01-05 16:52:16.0000002         16.9  2010-01-05 16:52:16 UTC   \n",
       "2   2011-08-18 00:35:00.00000049          5.7  2011-08-18 00:35:00 UTC   \n",
       "3    2012-04-21 04:30:42.0000001          7.7  2012-04-21 04:30:42 UTC   \n",
       "4  2010-03-09 07:51:00.000000135          5.3  2010-03-09 07:51:00 UTC   \n",
       "5    2011-01-06 09:50:45.0000002         12.1  2011-01-06 09:50:45 UTC   \n",
       "6    2012-11-20 20:35:00.0000001          7.5  2012-11-20 20:35:00 UTC   \n",
       "7   2012-01-04 17:22:00.00000081         16.5  2012-01-04 17:22:00 UTC   \n",
       "8  2012-12-03 13:10:00.000000125          9.0  2012-12-03 13:10:00 UTC   \n",
       "9   2009-09-02 01:11:00.00000083          8.9  2009-09-02 01:11:00 UTC   \n",
       "\n",
       "   pickup_longitude  pickup_latitude  dropoff_longitude  dropoff_latitude  \\\n",
       "0        -73.844311        40.721319         -73.841610         40.712278   \n",
       "1        -74.016048        40.711303         -73.979268         40.782004   \n",
       "2        -73.982738        40.761270         -73.991242         40.750562   \n",
       "3        -73.987130        40.733143         -73.991567         40.758092   \n",
       "4        -73.968095        40.768008         -73.956655         40.783762   \n",
       "5        -74.000964        40.731630         -73.972892         40.758233   \n",
       "6        -73.980002        40.751662         -73.973802         40.764842   \n",
       "7        -73.951300        40.774138         -73.990095         40.751048   \n",
       "8        -74.006462        40.726713         -73.993078         40.731628   \n",
       "9        -73.980658        40.733873         -73.991540         40.758138   \n",
       "\n",
       "   passenger_count  \n",
       "0                1  \n",
       "1                1  \n",
       "2                2  \n",
       "3                1  \n",
       "4                1  \n",
       "5                1  \n",
       "6                1  \n",
       "7                1  \n",
       "8                1  \n",
       "9                2  "
      ]
     },
     "execution_count": 4,
     "metadata": {},
     "output_type": "execute_result"
    }
   ],
   "source": [
    "train.head(10)"
   ]
  },
  {
   "cell_type": "code",
   "execution_count": 5,
   "metadata": {},
   "outputs": [
    {
     "data": {
      "text/html": [
       "<div>\n",
       "<style scoped>\n",
       "    .dataframe tbody tr th:only-of-type {\n",
       "        vertical-align: middle;\n",
       "    }\n",
       "\n",
       "    .dataframe tbody tr th {\n",
       "        vertical-align: top;\n",
       "    }\n",
       "\n",
       "    .dataframe thead th {\n",
       "        text-align: right;\n",
       "    }\n",
       "</style>\n",
       "<table border=\"1\" class=\"dataframe\">\n",
       "  <thead>\n",
       "    <tr style=\"text-align: right;\">\n",
       "      <th></th>\n",
       "      <th>fare_amount</th>\n",
       "      <th>pickup_longitude</th>\n",
       "      <th>pickup_latitude</th>\n",
       "      <th>dropoff_longitude</th>\n",
       "      <th>dropoff_latitude</th>\n",
       "      <th>passenger_count</th>\n",
       "    </tr>\n",
       "  </thead>\n",
       "  <tbody>\n",
       "    <tr>\n",
       "      <th>count</th>\n",
       "      <td>1000000.000000</td>\n",
       "      <td>1000000.000000</td>\n",
       "      <td>1000000.000000</td>\n",
       "      <td>999990.000000</td>\n",
       "      <td>999990.000000</td>\n",
       "      <td>1000000.000000</td>\n",
       "    </tr>\n",
       "    <tr>\n",
       "      <th>mean</th>\n",
       "      <td>11.348079</td>\n",
       "      <td>-72.526640</td>\n",
       "      <td>39.929008</td>\n",
       "      <td>-72.527860</td>\n",
       "      <td>39.919954</td>\n",
       "      <td>1.684924</td>\n",
       "    </tr>\n",
       "    <tr>\n",
       "      <th>std</th>\n",
       "      <td>9.822090</td>\n",
       "      <td>12.057937</td>\n",
       "      <td>7.626154</td>\n",
       "      <td>11.324494</td>\n",
       "      <td>8.201418</td>\n",
       "      <td>1.323911</td>\n",
       "    </tr>\n",
       "    <tr>\n",
       "      <th>min</th>\n",
       "      <td>-44.900000</td>\n",
       "      <td>-3377.680935</td>\n",
       "      <td>-3116.285383</td>\n",
       "      <td>-3383.296608</td>\n",
       "      <td>-3114.338567</td>\n",
       "      <td>0.000000</td>\n",
       "    </tr>\n",
       "    <tr>\n",
       "      <th>25%</th>\n",
       "      <td>6.000000</td>\n",
       "      <td>-73.992060</td>\n",
       "      <td>40.734965</td>\n",
       "      <td>-73.991385</td>\n",
       "      <td>40.734046</td>\n",
       "      <td>1.000000</td>\n",
       "    </tr>\n",
       "    <tr>\n",
       "      <th>50%</th>\n",
       "      <td>8.500000</td>\n",
       "      <td>-73.981792</td>\n",
       "      <td>40.752695</td>\n",
       "      <td>-73.980135</td>\n",
       "      <td>40.753166</td>\n",
       "      <td>1.000000</td>\n",
       "    </tr>\n",
       "    <tr>\n",
       "      <th>75%</th>\n",
       "      <td>12.500000</td>\n",
       "      <td>-73.967094</td>\n",
       "      <td>40.767154</td>\n",
       "      <td>-73.963654</td>\n",
       "      <td>40.768129</td>\n",
       "      <td>2.000000</td>\n",
       "    </tr>\n",
       "    <tr>\n",
       "      <th>max</th>\n",
       "      <td>500.000000</td>\n",
       "      <td>2522.271325</td>\n",
       "      <td>2621.628430</td>\n",
       "      <td>45.581619</td>\n",
       "      <td>1651.553433</td>\n",
       "      <td>208.000000</td>\n",
       "    </tr>\n",
       "  </tbody>\n",
       "</table>\n",
       "</div>"
      ],
      "text/plain": [
       "          fare_amount  pickup_longitude  pickup_latitude  dropoff_longitude  \\\n",
       "count  1000000.000000    1000000.000000   1000000.000000      999990.000000   \n",
       "mean        11.348079        -72.526640        39.929008         -72.527860   \n",
       "std          9.822090         12.057937         7.626154          11.324494   \n",
       "min        -44.900000      -3377.680935     -3116.285383       -3383.296608   \n",
       "25%          6.000000        -73.992060        40.734965         -73.991385   \n",
       "50%          8.500000        -73.981792        40.752695         -73.980135   \n",
       "75%         12.500000        -73.967094        40.767154         -73.963654   \n",
       "max        500.000000       2522.271325      2621.628430          45.581619   \n",
       "\n",
       "       dropoff_latitude  passenger_count  \n",
       "count     999990.000000   1000000.000000  \n",
       "mean          39.919954         1.684924  \n",
       "std            8.201418         1.323911  \n",
       "min        -3114.338567         0.000000  \n",
       "25%           40.734046         1.000000  \n",
       "50%           40.753166         1.000000  \n",
       "75%           40.768129         2.000000  \n",
       "max         1651.553433       208.000000  "
      ]
     },
     "execution_count": 5,
     "metadata": {},
     "output_type": "execute_result"
    }
   ],
   "source": [
    "train.describe()"
   ]
  },
  {
   "cell_type": "code",
   "execution_count": 6,
   "metadata": {},
   "outputs": [
    {
     "data": {
      "text/plain": [
       "dropoff_latitude     10\n",
       "dropoff_longitude    10\n",
       "passenger_count       0\n",
       "pickup_latitude       0\n",
       "pickup_longitude      0\n",
       "pickup_datetime       0\n",
       "fare_amount           0\n",
       "key                   0\n",
       "dtype: int64"
      ]
     },
     "execution_count": 6,
     "metadata": {},
     "output_type": "execute_result"
    }
   ],
   "source": [
    "#check for the missing values for the dataset\n",
    "train.isnull().sum().sort_values(ascending = False)"
   ]
  },
  {
   "cell_type": "code",
   "execution_count": 7,
   "metadata": {},
   "outputs": [
    {
     "data": {
      "text/plain": [
       "passenger_count      0\n",
       "dropoff_latitude     0\n",
       "dropoff_longitude    0\n",
       "pickup_latitude      0\n",
       "pickup_longitude     0\n",
       "pickup_datetime      0\n",
       "key                  0\n",
       "dtype: int64"
      ]
     },
     "execution_count": 7,
     "metadata": {},
     "output_type": "execute_result"
    }
   ],
   "source": [
    "test.isnull().sum().sort_values(ascending = False)"
   ]
  },
  {
   "cell_type": "code",
   "execution_count": 8,
   "metadata": {},
   "outputs": [],
   "source": [
    "#since the training set has huge volumes of data we can drop null rows\n",
    "#drop the missing values from the dataset\n",
    "\n",
    "train = train.drop(train[train.isnull().any(1)].index, axis = 0)"
   ]
  },
  {
   "cell_type": "code",
   "execution_count": 9,
   "metadata": {},
   "outputs": [
    {
     "data": {
      "text/plain": [
       "(999990, 8)"
      ]
     },
     "execution_count": 9,
     "metadata": {},
     "output_type": "execute_result"
    }
   ],
   "source": [
    "train.shape"
   ]
  },
  {
   "cell_type": "markdown",
   "metadata": {},
   "source": [
    "## Target Column Analysis\n",
    "\n",
    "### Fare_amount\n",
    "\n",
    "- Above output shows there are some rows which has fare amount in negative. In Real time these cases are not possible hence we are going to drop the rows with negative fare amount.\n",
    "\n",
    "- Lets first count the number of records with negative Fare amount. It shows we have 38 rows with negative amount.\n",
    "- Drop the rows with negative fare amount.\n",
    "- Describe the fare amount again to check if there is still negative amount left."
   ]
  },
  {
   "cell_type": "code",
   "execution_count": 10,
   "metadata": {},
   "outputs": [
    {
     "data": {
      "text/plain": [
       "count    999990.000000\n",
       "mean         11.347953\n",
       "std           9.821790\n",
       "min         -44.900000\n",
       "25%           6.000000\n",
       "50%           8.500000\n",
       "75%          12.500000\n",
       "max         500.000000\n",
       "Name: fare_amount, dtype: float64"
      ]
     },
     "execution_count": 10,
     "metadata": {},
     "output_type": "execute_result"
    }
   ],
   "source": [
    "#describe the Target column\n",
    "train['fare_amount'].describe()"
   ]
  },
  {
   "cell_type": "code",
   "execution_count": 11,
   "metadata": {},
   "outputs": [
    {
     "data": {
      "text/plain": [
       "Counter({False: 999952, True: 38})"
      ]
     },
     "execution_count": 11,
     "metadata": {},
     "output_type": "execute_result"
    }
   ],
   "source": [
    "#count the number of negative records\n",
    "from collections import Counter\n",
    "Counter(train['fare_amount'] < 0)"
   ]
  },
  {
   "cell_type": "code",
   "execution_count": 12,
   "metadata": {},
   "outputs": [
    {
     "data": {
      "text/plain": [
       "(999952, 8)"
      ]
     },
     "execution_count": 12,
     "metadata": {},
     "output_type": "execute_result"
    }
   ],
   "source": [
    "#drop negative amount records\n",
    "train = train.drop(train[train['fare_amount'] < 0].index, axis = 0)\n",
    "\n",
    "#print the shape of the trainin dataset\n",
    "train.shape"
   ]
  },
  {
   "cell_type": "code",
   "execution_count": 13,
   "metadata": {},
   "outputs": [
    {
     "data": {
      "text/plain": [
       "count    999952.000000\n",
       "mean         11.348616\n",
       "std           9.821249\n",
       "min           0.000000\n",
       "25%           6.000000\n",
       "50%           8.500000\n",
       "75%          12.500000\n",
       "max         500.000000\n",
       "Name: fare_amount, dtype: float64"
      ]
     },
     "execution_count": 13,
     "metadata": {},
     "output_type": "execute_result"
    }
   ],
   "source": [
    "#check if there is still negative records present in fare amount\n",
    "train['fare_amount'].describe()"
   ]
  },
  {
   "cell_type": "code",
   "execution_count": 14,
   "metadata": {},
   "outputs": [
    {
     "data": {
      "text/plain": [
       "101885    500.00\n",
       "247671    495.00\n",
       "287638    450.00\n",
       "233874    450.00\n",
       "329010    450.00\n",
       "361793    400.00\n",
       "451974    400.00\n",
       "951810    347.54\n",
       "578919    287.08\n",
       "130460    281.05\n",
       "309769    263.25\n",
       "719764    262.04\n",
       "142550    255.00\n",
       "888472    250.25\n",
       "351584    250.00\n",
       "217225    245.41\n",
       "786490    243.00\n",
       "149769    240.00\n",
       "168218    235.00\n",
       "202499    225.00\n",
       "612128    220.00\n",
       "806692    220.00\n",
       "196990    217.00\n",
       "784935    215.00\n",
       "416989    215.00\n",
       "225249    215.00\n",
       "285659    214.33\n",
       "110337    212.00\n",
       "215662    211.44\n",
       "979151    210.00\n",
       "           ...  \n",
       "671873      0.01\n",
       "895361      0.00\n",
       "762802      0.00\n",
       "331597      0.00\n",
       "266485      0.00\n",
       "520715      0.00\n",
       "670254      0.00\n",
       "489767      0.00\n",
       "938020      0.00\n",
       "27891       0.00\n",
       "897211      0.00\n",
       "788466      0.00\n",
       "957590      0.00\n",
       "930680      0.00\n",
       "386734      0.00\n",
       "47302       0.00\n",
       "760662      0.00\n",
       "942215      0.00\n",
       "431819      0.00\n",
       "949564      0.00\n",
       "436658      0.00\n",
       "175352      0.00\n",
       "10002       0.00\n",
       "561786      0.00\n",
       "681342      0.00\n",
       "689250      0.00\n",
       "211455      0.00\n",
       "211499      0.00\n",
       "105051      0.00\n",
       "495273      0.00\n",
       "Name: fare_amount, Length: 999952, dtype: float64"
      ]
     },
     "execution_count": 14,
     "metadata": {},
     "output_type": "execute_result"
    }
   ],
   "source": [
    "train['fare_amount'].sort_values(ascending = False)"
   ]
  },
  {
   "cell_type": "markdown",
   "metadata": {},
   "source": [
    "## Features Analysis\n",
    "\n",
    "### passenger_count\n",
    "\n",
    "- We can see the max value of passenger count is 208. A taxi cannot accomodate 208 passengers in a taxi so we need to take care of this record.\n",
    "- Lets count the number the records for passenger count higher than 6.\n",
    "- We can see only one record has passenger count higher than 6 which definitly be an outlier.\n",
    "- Remove this record from the training dataset.\n",
    "- After removing the outlier record we can see the data looks more neatter than before. Now the maximum number of passenger is 6 which is obviously the case with SUVs. "
   ]
  },
  {
   "cell_type": "code",
   "execution_count": 15,
   "metadata": {},
   "outputs": [
    {
     "data": {
      "text/plain": [
       "count    999952.000000\n",
       "mean          1.684942\n",
       "std           1.323908\n",
       "min           0.000000\n",
       "25%           1.000000\n",
       "50%           1.000000\n",
       "75%           2.000000\n",
       "max         208.000000\n",
       "Name: passenger_count, dtype: float64"
      ]
     },
     "execution_count": 15,
     "metadata": {},
     "output_type": "execute_result"
    }
   ],
   "source": [
    "train['passenger_count'].describe()"
   ]
  },
  {
   "cell_type": "code",
   "execution_count": 16,
   "metadata": {},
   "outputs": [
    {
     "data": {
      "text/plain": [
       "key                  1\n",
       "fare_amount          1\n",
       "pickup_datetime      1\n",
       "pickup_longitude     1\n",
       "pickup_latitude      1\n",
       "dropoff_longitude    1\n",
       "dropoff_latitude     1\n",
       "passenger_count      1\n",
       "dtype: int64"
      ]
     },
     "execution_count": 16,
     "metadata": {},
     "output_type": "execute_result"
    }
   ],
   "source": [
    "train[train['passenger_count'] > 6].count()"
   ]
  },
  {
   "cell_type": "code",
   "execution_count": 17,
   "metadata": {},
   "outputs": [],
   "source": [
    "#droppin the outlier record\n",
    "train.drop(train[train['passenger_count'] == 208].index, axis = 0,inplace = True)"
   ]
  },
  {
   "cell_type": "code",
   "execution_count": 18,
   "metadata": {},
   "outputs": [
    {
     "data": {
      "text/plain": [
       "count    999951.000000\n",
       "mean          1.684736\n",
       "std           1.307733\n",
       "min           0.000000\n",
       "25%           1.000000\n",
       "50%           1.000000\n",
       "75%           2.000000\n",
       "max           6.000000\n",
       "Name: passenger_count, dtype: float64"
      ]
     },
     "execution_count": 18,
     "metadata": {},
     "output_type": "execute_result"
    }
   ],
   "source": [
    "train['passenger_count'].describe()"
   ]
  },
  {
   "cell_type": "markdown",
   "metadata": {},
   "source": [
    "### pickup_latitude, pickup_longitude, dropoff_latitude, dropoff_longitude\n",
    "\n",
    "- Latitude ranges from -90 to 90 and longitude ranges from -180 to 180.\n",
    "- Let's examine all the attributes one by one."
   ]
  },
  {
   "cell_type": "code",
   "execution_count": 19,
   "metadata": {},
   "outputs": [
    {
     "data": {
      "text/plain": [
       "count    999951.000000\n",
       "mean         39.929090\n",
       "std           7.626025\n",
       "min       -3116.285383\n",
       "25%          40.734965\n",
       "50%          40.752695\n",
       "75%          40.767154\n",
       "max        2621.628430\n",
       "Name: pickup_latitude, dtype: float64"
      ]
     },
     "execution_count": 19,
     "metadata": {},
     "output_type": "execute_result"
    }
   ],
   "source": [
    "#describe the pickup latitude\n",
    "train['pickup_latitude'].describe()"
   ]
  },
  {
   "cell_type": "code",
   "execution_count": 20,
   "metadata": {},
   "outputs": [
    {
     "data": {
      "text/plain": [
       "3"
      ]
     },
     "execution_count": 20,
     "metadata": {},
     "output_type": "execute_result"
    }
   ],
   "source": [
    "#count the number of records which has latitude < -90\n",
    "len(train[train['pickup_latitude'] < -90 ])"
   ]
  },
  {
   "cell_type": "code",
   "execution_count": 21,
   "metadata": {},
   "outputs": [],
   "source": [
    "# we can see only 3 records has latitude less than 90.\n",
    "#drop these records from the training set.\n",
    "train.drop(train[train['pickup_latitude'] < -90].index, axis = 0, inplace = True)"
   ]
  },
  {
   "cell_type": "code",
   "execution_count": 22,
   "metadata": {},
   "outputs": [
    {
     "data": {
      "text/plain": [
       "(999948, 8)"
      ]
     },
     "execution_count": 22,
     "metadata": {},
     "output_type": "execute_result"
    }
   ],
   "source": [
    "train.shape"
   ]
  },
  {
   "cell_type": "code",
   "execution_count": 23,
   "metadata": {},
   "outputs": [
    {
     "data": {
      "text/plain": [
       "9"
      ]
     },
     "execution_count": 23,
     "metadata": {},
     "output_type": "execute_result"
    }
   ],
   "source": [
    "#count the number of records which has latitude > 90\n",
    "len(train[train['pickup_latitude'] > 90 ])"
   ]
  },
  {
   "cell_type": "code",
   "execution_count": 24,
   "metadata": {},
   "outputs": [],
   "source": [
    "# we can see only 3 records has latitude more than 90.\n",
    "#drop these records from the training set.\n",
    "train.drop(train[train['pickup_latitude'] > 90].index, axis = 0, inplace = True)"
   ]
  },
  {
   "cell_type": "code",
   "execution_count": 25,
   "metadata": {},
   "outputs": [
    {
     "data": {
      "text/plain": [
       "(999939, 8)"
      ]
     },
     "execution_count": 25,
     "metadata": {},
     "output_type": "execute_result"
    }
   ],
   "source": [
    "train.shape"
   ]
  },
  {
   "cell_type": "code",
   "execution_count": 26,
   "metadata": {},
   "outputs": [
    {
     "data": {
      "text/plain": [
       "count    999939.000000\n",
       "mean        -72.525443\n",
       "std          10.692752\n",
       "min       -1452.988333\n",
       "25%         -73.992060\n",
       "50%         -73.981792\n",
       "75%         -73.967095\n",
       "max          40.850357\n",
       "Name: pickup_longitude, dtype: float64"
      ]
     },
     "execution_count": 26,
     "metadata": {},
     "output_type": "execute_result"
    }
   ],
   "source": [
    "#describe the pickup longitude\n",
    "train['pickup_longitude'].describe()"
   ]
  },
  {
   "cell_type": "code",
   "execution_count": 27,
   "metadata": {},
   "outputs": [
    {
     "data": {
      "text/plain": [
       "11"
      ]
     },
     "execution_count": 27,
     "metadata": {},
     "output_type": "execute_result"
    }
   ],
   "source": [
    "#there are some records with unrealistic longitude. lets find out and drop those records.\n",
    "#count the records which has longitue less than -180.\n",
    "len(train[train['pickup_longitude'] < -180])"
   ]
  },
  {
   "cell_type": "code",
   "execution_count": 28,
   "metadata": {},
   "outputs": [],
   "source": [
    "#drop the records with longitude less than -180\n",
    "train.drop(train[train['pickup_longitude'] < -180].index, axis = 0, inplace = True)"
   ]
  },
  {
   "cell_type": "code",
   "execution_count": 29,
   "metadata": {},
   "outputs": [
    {
     "data": {
      "text/plain": [
       "(999928, 8)"
      ]
     },
     "execution_count": 29,
     "metadata": {},
     "output_type": "execute_result"
    }
   ],
   "source": [
    "train.shape"
   ]
  },
  {
   "cell_type": "code",
   "execution_count": 30,
   "metadata": {},
   "outputs": [
    {
     "data": {
      "text/plain": [
       "0"
      ]
     },
     "execution_count": 30,
     "metadata": {},
     "output_type": "execute_result"
    }
   ],
   "source": [
    "#count the records with longitude more than 180.\n",
    "len(train[train['pickup_longitude'] > 180])"
   ]
  },
  {
   "cell_type": "code",
   "execution_count": 31,
   "metadata": {},
   "outputs": [],
   "source": [
    "#similarly let's frop the unrealistic records from dropoff_latitude column\n",
    "train.drop(((train[train['dropoff_latitude'] < -90])| ( train[train['dropoff_latitude'] > 90])).index, axis=0,inplace= True)"
   ]
  },
  {
   "cell_type": "code",
   "execution_count": 32,
   "metadata": {},
   "outputs": [
    {
     "data": {
      "text/plain": [
       "(999920, 8)"
      ]
     },
     "execution_count": 32,
     "metadata": {},
     "output_type": "execute_result"
    }
   ],
   "source": [
    "train.shape"
   ]
  },
  {
   "cell_type": "code",
   "execution_count": 33,
   "metadata": {},
   "outputs": [],
   "source": [
    "#dropoff the unrealistic records for dropoff longitude column\n",
    "train.drop(((train[train['dropoff_longitude'] < -180])| ( train[train['dropoff_longitude'] > 180])).index,axis = 0, inplace = True)"
   ]
  },
  {
   "cell_type": "code",
   "execution_count": 34,
   "metadata": {},
   "outputs": [
    {
     "data": {
      "text/plain": [
       "(999911, 8)"
      ]
     },
     "execution_count": 34,
     "metadata": {},
     "output_type": "execute_result"
    }
   ],
   "source": [
    "train.shape"
   ]
  },
  {
   "cell_type": "code",
   "execution_count": 35,
   "metadata": {},
   "outputs": [
    {
     "data": {
      "text/plain": [
       "key                   object\n",
       "fare_amount          float64\n",
       "pickup_datetime       object\n",
       "pickup_longitude     float64\n",
       "pickup_latitude      float64\n",
       "dropoff_longitude    float64\n",
       "dropoff_latitude     float64\n",
       "passenger_count        int64\n",
       "dtype: object"
      ]
     },
     "execution_count": 35,
     "metadata": {},
     "output_type": "execute_result"
    }
   ],
   "source": [
    "#check the data types of all the columns\n",
    "train.dtypes"
   ]
  },
  {
   "cell_type": "code",
   "execution_count": 36,
   "metadata": {},
   "outputs": [
    {
     "data": {
      "text/html": [
       "<div>\n",
       "<style scoped>\n",
       "    .dataframe tbody tr th:only-of-type {\n",
       "        vertical-align: middle;\n",
       "    }\n",
       "\n",
       "    .dataframe tbody tr th {\n",
       "        vertical-align: top;\n",
       "    }\n",
       "\n",
       "    .dataframe thead th {\n",
       "        text-align: right;\n",
       "    }\n",
       "</style>\n",
       "<table border=\"1\" class=\"dataframe\">\n",
       "  <thead>\n",
       "    <tr style=\"text-align: right;\">\n",
       "      <th></th>\n",
       "      <th>key</th>\n",
       "      <th>fare_amount</th>\n",
       "      <th>pickup_datetime</th>\n",
       "      <th>pickup_longitude</th>\n",
       "      <th>pickup_latitude</th>\n",
       "      <th>dropoff_longitude</th>\n",
       "      <th>dropoff_latitude</th>\n",
       "      <th>passenger_count</th>\n",
       "    </tr>\n",
       "  </thead>\n",
       "  <tbody>\n",
       "    <tr>\n",
       "      <th>0</th>\n",
       "      <td>2009-06-15 17:26:21.0000001</td>\n",
       "      <td>4.5</td>\n",
       "      <td>2009-06-15 17:26:21 UTC</td>\n",
       "      <td>-73.844311</td>\n",
       "      <td>40.721319</td>\n",
       "      <td>-73.841610</td>\n",
       "      <td>40.712278</td>\n",
       "      <td>1</td>\n",
       "    </tr>\n",
       "    <tr>\n",
       "      <th>1</th>\n",
       "      <td>2010-01-05 16:52:16.0000002</td>\n",
       "      <td>16.9</td>\n",
       "      <td>2010-01-05 16:52:16 UTC</td>\n",
       "      <td>-74.016048</td>\n",
       "      <td>40.711303</td>\n",
       "      <td>-73.979268</td>\n",
       "      <td>40.782004</td>\n",
       "      <td>1</td>\n",
       "    </tr>\n",
       "    <tr>\n",
       "      <th>2</th>\n",
       "      <td>2011-08-18 00:35:00.00000049</td>\n",
       "      <td>5.7</td>\n",
       "      <td>2011-08-18 00:35:00 UTC</td>\n",
       "      <td>-73.982738</td>\n",
       "      <td>40.761270</td>\n",
       "      <td>-73.991242</td>\n",
       "      <td>40.750562</td>\n",
       "      <td>2</td>\n",
       "    </tr>\n",
       "    <tr>\n",
       "      <th>3</th>\n",
       "      <td>2012-04-21 04:30:42.0000001</td>\n",
       "      <td>7.7</td>\n",
       "      <td>2012-04-21 04:30:42 UTC</td>\n",
       "      <td>-73.987130</td>\n",
       "      <td>40.733143</td>\n",
       "      <td>-73.991567</td>\n",
       "      <td>40.758092</td>\n",
       "      <td>1</td>\n",
       "    </tr>\n",
       "    <tr>\n",
       "      <th>4</th>\n",
       "      <td>2010-03-09 07:51:00.000000135</td>\n",
       "      <td>5.3</td>\n",
       "      <td>2010-03-09 07:51:00 UTC</td>\n",
       "      <td>-73.968095</td>\n",
       "      <td>40.768008</td>\n",
       "      <td>-73.956655</td>\n",
       "      <td>40.783762</td>\n",
       "      <td>1</td>\n",
       "    </tr>\n",
       "  </tbody>\n",
       "</table>\n",
       "</div>"
      ],
      "text/plain": [
       "                             key  fare_amount          pickup_datetime  \\\n",
       "0    2009-06-15 17:26:21.0000001          4.5  2009-06-15 17:26:21 UTC   \n",
       "1    2010-01-05 16:52:16.0000002         16.9  2010-01-05 16:52:16 UTC   \n",
       "2   2011-08-18 00:35:00.00000049          5.7  2011-08-18 00:35:00 UTC   \n",
       "3    2012-04-21 04:30:42.0000001          7.7  2012-04-21 04:30:42 UTC   \n",
       "4  2010-03-09 07:51:00.000000135          5.3  2010-03-09 07:51:00 UTC   \n",
       "\n",
       "   pickup_longitude  pickup_latitude  dropoff_longitude  dropoff_latitude  \\\n",
       "0        -73.844311        40.721319         -73.841610         40.712278   \n",
       "1        -74.016048        40.711303         -73.979268         40.782004   \n",
       "2        -73.982738        40.761270         -73.991242         40.750562   \n",
       "3        -73.987130        40.733143         -73.991567         40.758092   \n",
       "4        -73.968095        40.768008         -73.956655         40.783762   \n",
       "\n",
       "   passenger_count  \n",
       "0                1  \n",
       "1                1  \n",
       "2                2  \n",
       "3                1  \n",
       "4                1  "
      ]
     },
     "execution_count": 36,
     "metadata": {},
     "output_type": "execute_result"
    }
   ],
   "source": [
    "train.head()"
   ]
  },
  {
   "cell_type": "markdown",
   "metadata": {},
   "source": [
    "- Here we can see the data type for key and pickup_datetime should be datetime which currently in object format.\n",
    "- Covert these objects fields into proper formats."
   ]
  },
  {
   "cell_type": "code",
   "execution_count": 37,
   "metadata": {},
   "outputs": [],
   "source": [
    "#convertin the object type into datetime for training dataset\n",
    "train['key'] = pd.to_datetime(train['key'])\n",
    "train['pickup_datetime'] = pd.to_datetime(train['pickup_datetime'])"
   ]
  },
  {
   "cell_type": "code",
   "execution_count": 38,
   "metadata": {},
   "outputs": [
    {
     "data": {
      "text/plain": [
       "key                  datetime64[ns]\n",
       "fare_amount                 float64\n",
       "pickup_datetime      datetime64[ns]\n",
       "pickup_longitude            float64\n",
       "pickup_latitude             float64\n",
       "dropoff_longitude           float64\n",
       "dropoff_latitude            float64\n",
       "passenger_count               int64\n",
       "dtype: object"
      ]
     },
     "execution_count": 38,
     "metadata": {},
     "output_type": "execute_result"
    }
   ],
   "source": [
    "train.dtypes"
   ]
  },
  {
   "cell_type": "code",
   "execution_count": 39,
   "metadata": {},
   "outputs": [],
   "source": [
    "#convertin the object type into datetime for test dataset\n",
    "test['key'] = pd.to_datetime(test['key'])\n",
    "test['pickup_datetime'] = pd.to_datetime(test['pickup_datetime'])"
   ]
  },
  {
   "cell_type": "code",
   "execution_count": 40,
   "metadata": {},
   "outputs": [
    {
     "data": {
      "text/plain": [
       "key                  datetime64[ns]\n",
       "pickup_datetime      datetime64[ns]\n",
       "pickup_longitude            float64\n",
       "pickup_latitude             float64\n",
       "dropoff_longitude           float64\n",
       "dropoff_latitude            float64\n",
       "passenger_count               int64\n",
       "dtype: object"
      ]
     },
     "execution_count": 40,
     "metadata": {},
     "output_type": "execute_result"
    }
   ],
   "source": [
    "test.dtypes"
   ]
  },
  {
   "cell_type": "markdown",
   "metadata": {},
   "source": [
    "#### Exploratory Data Analysis\n",
    "\n",
    "Now for the EDA let's consider the below points:\n",
    "- How does the number of passengers affets the fare?\n",
    "- Does the fare is affected by date and time of pickup?\n",
    "- Does the day of the week affect the fare?\n",
    "- Does the distance travelled affects the fare?\n",
    "\n",
    "But before progressing further we need to split the data column in \n",
    "- Year\n",
    "- Month\n",
    "- Date\n",
    "- Day\n",
    "- Hour\n",
    "\n",
    "Using these we shall calculate the day of the week and come to our conclusions about how pickup_location affects the fare. Also, create a new field 'distance' to fetch the distance between the pickup and the drop.\n",
    "\n",
    "We can calulate the distance in a sphere when latitudes and longitudes are given by [Haversine formula](https://en.wikipedia.org/wiki/Haversine_formula)\n",
    "\n",
    "haversine(θ) = sin²(θ/2)\n",
    "\n",
    "Eventually, the formual boils down to the following where φ is latitude, λ is longitude, R is earth’s radius (mean radius = 6,371km) to include latitude and longitude coordinates (A and B in this case).\n",
    "\n",
    "a = sin²((φB - φA)/2) + cos φA . cos φB . sin²((λB - λA)/2)\n",
    "\n",
    "c = 2 * atan2( √a, √(1−a) )\n",
    "\n",
    "d = R ⋅ c\n",
    "\n",
    "d = Haversine distance\n",
    "\n",
    "Refer [this](https://community.esri.com/groups/coordinate-reference-systems/blog/2017/10/05/haversine-formula) page for more info and examples on Haversine formula"
   ]
  },
  {
   "cell_type": "code",
   "execution_count": 41,
   "metadata": {},
   "outputs": [],
   "source": [
    "#define a function to calculate the distance\n",
    "def haversine_distance(pickup_latitude,pickup_longitude,drop_latitude,drop_longitude):\n",
    "    \n",
    "    data = [train,test]\n",
    "    \n",
    "    for i in data:\n",
    "        R = 6371 # radius of the erth in kilometers\n",
    "        phi1 = np.radians(i[pickup_latitude])\n",
    "        phi2 = np.radians(i[drop_latitude])\n",
    "        \n",
    "        delta_phi = np.radians(i[drop_latitude] - i[pickup_latitude])\n",
    "        delta_lambda = np.radians(i[drop_longitude] - i[pickup_longitude])\n",
    "        \n",
    "        a = np.sin(delta_phi / 2.0) **2 + np.cos(phi1) * np.cos(phi2) * np.sin(delta_lambda / 2.0) ** 2\n",
    "        \n",
    "        c = 2 * np.arctan2(np.sqrt(a), np.sqrt(1-a))\n",
    "        \n",
    "        d = R * c\n",
    "        \n",
    "        i['harvesine_distance'] = d\n",
    "        \n",
    "    return d                   "
   ]
  },
  {
   "cell_type": "code",
   "execution_count": 42,
   "metadata": {},
   "outputs": [
    {
     "data": {
      "text/plain": [
       "0        2.323260\n",
       "1        2.425353\n",
       "2        0.618628\n",
       "3        1.961033\n",
       "4        5.387301\n",
       "5        3.222549\n",
       "6        0.929601\n",
       "7       21.540102\n",
       "8        3.873962\n",
       "9        1.099794\n",
       "10       2.317685\n",
       "11       4.819179\n",
       "12       0.722670\n",
       "13       1.675503\n",
       "14       2.504032\n",
       "15       5.115375\n",
       "16       0.298838\n",
       "17       2.531147\n",
       "18       0.780444\n",
       "19       0.427282\n",
       "20       1.651946\n",
       "21       1.969211\n",
       "22       1.305441\n",
       "23       1.901295\n",
       "24       5.779720\n",
       "25       1.121687\n",
       "26      14.306540\n",
       "27       9.427870\n",
       "28       1.144529\n",
       "29       4.696371\n",
       "          ...    \n",
       "9884    15.119293\n",
       "9885     5.006239\n",
       "9886     7.376754\n",
       "9887     1.680721\n",
       "9888     0.000000\n",
       "9889     2.377723\n",
       "9890     2.944581\n",
       "9891     5.952839\n",
       "9892     2.950361\n",
       "9893     4.735375\n",
       "9894     3.101361\n",
       "9895     9.000325\n",
       "9896     2.398161\n",
       "9897     5.081663\n",
       "9898     0.555287\n",
       "9899     5.610506\n",
       "9900     1.890608\n",
       "9901     1.530118\n",
       "9902     3.891525\n",
       "9903     2.299316\n",
       "9904    15.091263\n",
       "9905     9.613797\n",
       "9906     0.369506\n",
       "9907     9.923999\n",
       "9908     1.636402\n",
       "9909     2.124874\n",
       "9910     3.270969\n",
       "9911    19.183941\n",
       "9912     8.343486\n",
       "9913     1.180825\n",
       "Length: 9914, dtype: float64"
      ]
     },
     "execution_count": 42,
     "metadata": {},
     "output_type": "execute_result"
    }
   ],
   "source": [
    "haversine_distance('pickup_latitude', 'pickup_longitude', 'dropoff_latitude', 'dropoff_longitude')"
   ]
  },
  {
   "cell_type": "code",
   "execution_count": 43,
   "metadata": {},
   "outputs": [
    {
     "data": {
      "text/plain": [
       "0    1.030764\n",
       "1    8.450134\n",
       "2    1.389525\n",
       "3    2.799270\n",
       "4    1.999157\n",
       "Name: harvesine_distance, dtype: float64"
      ]
     },
     "execution_count": 43,
     "metadata": {},
     "output_type": "execute_result"
    }
   ],
   "source": [
    "train['harvesine_distance'].head()"
   ]
  },
  {
   "cell_type": "code",
   "execution_count": 44,
   "metadata": {},
   "outputs": [
    {
     "data": {
      "text/plain": [
       "0    2.323260\n",
       "1    2.425353\n",
       "2    0.618628\n",
       "3    1.961033\n",
       "4    5.387301\n",
       "Name: harvesine_distance, dtype: float64"
      ]
     },
     "execution_count": 44,
     "metadata": {},
     "output_type": "execute_result"
    }
   ],
   "source": [
    "test['harvesine_distance'].head()"
   ]
  },
  {
   "cell_type": "code",
   "execution_count": 45,
   "metadata": {},
   "outputs": [
    {
     "data": {
      "text/html": [
       "<div>\n",
       "<style scoped>\n",
       "    .dataframe tbody tr th:only-of-type {\n",
       "        vertical-align: middle;\n",
       "    }\n",
       "\n",
       "    .dataframe tbody tr th {\n",
       "        vertical-align: top;\n",
       "    }\n",
       "\n",
       "    .dataframe thead th {\n",
       "        text-align: right;\n",
       "    }\n",
       "</style>\n",
       "<table border=\"1\" class=\"dataframe\">\n",
       "  <thead>\n",
       "    <tr style=\"text-align: right;\">\n",
       "      <th></th>\n",
       "      <th>key</th>\n",
       "      <th>fare_amount</th>\n",
       "      <th>pickup_datetime</th>\n",
       "      <th>pickup_longitude</th>\n",
       "      <th>pickup_latitude</th>\n",
       "      <th>dropoff_longitude</th>\n",
       "      <th>dropoff_latitude</th>\n",
       "      <th>passenger_count</th>\n",
       "      <th>harvesine_distance</th>\n",
       "    </tr>\n",
       "  </thead>\n",
       "  <tbody>\n",
       "    <tr>\n",
       "      <th>0</th>\n",
       "      <td>2009-06-15 17:26:21.000000100</td>\n",
       "      <td>4.5</td>\n",
       "      <td>2009-06-15 17:26:21</td>\n",
       "      <td>-73.844311</td>\n",
       "      <td>40.721319</td>\n",
       "      <td>-73.841610</td>\n",
       "      <td>40.712278</td>\n",
       "      <td>1</td>\n",
       "      <td>1.030764</td>\n",
       "    </tr>\n",
       "    <tr>\n",
       "      <th>1</th>\n",
       "      <td>2010-01-05 16:52:16.000000200</td>\n",
       "      <td>16.9</td>\n",
       "      <td>2010-01-05 16:52:16</td>\n",
       "      <td>-74.016048</td>\n",
       "      <td>40.711303</td>\n",
       "      <td>-73.979268</td>\n",
       "      <td>40.782004</td>\n",
       "      <td>1</td>\n",
       "      <td>8.450134</td>\n",
       "    </tr>\n",
       "    <tr>\n",
       "      <th>2</th>\n",
       "      <td>2011-08-18 00:35:00.000000490</td>\n",
       "      <td>5.7</td>\n",
       "      <td>2011-08-18 00:35:00</td>\n",
       "      <td>-73.982738</td>\n",
       "      <td>40.761270</td>\n",
       "      <td>-73.991242</td>\n",
       "      <td>40.750562</td>\n",
       "      <td>2</td>\n",
       "      <td>1.389525</td>\n",
       "    </tr>\n",
       "    <tr>\n",
       "      <th>3</th>\n",
       "      <td>2012-04-21 04:30:42.000000100</td>\n",
       "      <td>7.7</td>\n",
       "      <td>2012-04-21 04:30:42</td>\n",
       "      <td>-73.987130</td>\n",
       "      <td>40.733143</td>\n",
       "      <td>-73.991567</td>\n",
       "      <td>40.758092</td>\n",
       "      <td>1</td>\n",
       "      <td>2.799270</td>\n",
       "    </tr>\n",
       "    <tr>\n",
       "      <th>4</th>\n",
       "      <td>2010-03-09 07:51:00.000000135</td>\n",
       "      <td>5.3</td>\n",
       "      <td>2010-03-09 07:51:00</td>\n",
       "      <td>-73.968095</td>\n",
       "      <td>40.768008</td>\n",
       "      <td>-73.956655</td>\n",
       "      <td>40.783762</td>\n",
       "      <td>1</td>\n",
       "      <td>1.999157</td>\n",
       "    </tr>\n",
       "  </tbody>\n",
       "</table>\n",
       "</div>"
      ],
      "text/plain": [
       "                            key  fare_amount     pickup_datetime  \\\n",
       "0 2009-06-15 17:26:21.000000100          4.5 2009-06-15 17:26:21   \n",
       "1 2010-01-05 16:52:16.000000200         16.9 2010-01-05 16:52:16   \n",
       "2 2011-08-18 00:35:00.000000490          5.7 2011-08-18 00:35:00   \n",
       "3 2012-04-21 04:30:42.000000100          7.7 2012-04-21 04:30:42   \n",
       "4 2010-03-09 07:51:00.000000135          5.3 2010-03-09 07:51:00   \n",
       "\n",
       "   pickup_longitude  pickup_latitude  dropoff_longitude  dropoff_latitude  \\\n",
       "0        -73.844311        40.721319         -73.841610         40.712278   \n",
       "1        -74.016048        40.711303         -73.979268         40.782004   \n",
       "2        -73.982738        40.761270         -73.991242         40.750562   \n",
       "3        -73.987130        40.733143         -73.991567         40.758092   \n",
       "4        -73.968095        40.768008         -73.956655         40.783762   \n",
       "\n",
       "   passenger_count  harvesine_distance  \n",
       "0                1            1.030764  \n",
       "1                1            8.450134  \n",
       "2                2            1.389525  \n",
       "3                1            2.799270  \n",
       "4                1            1.999157  "
      ]
     },
     "execution_count": 45,
     "metadata": {},
     "output_type": "execute_result"
    }
   ],
   "source": [
    "#check the data from training set\n",
    "train.head()"
   ]
  },
  {
   "cell_type": "code",
   "execution_count": 46,
   "metadata": {},
   "outputs": [
    {
     "data": {
      "text/html": [
       "<div>\n",
       "<style scoped>\n",
       "    .dataframe tbody tr th:only-of-type {\n",
       "        vertical-align: middle;\n",
       "    }\n",
       "\n",
       "    .dataframe tbody tr th {\n",
       "        vertical-align: top;\n",
       "    }\n",
       "\n",
       "    .dataframe thead th {\n",
       "        text-align: right;\n",
       "    }\n",
       "</style>\n",
       "<table border=\"1\" class=\"dataframe\">\n",
       "  <thead>\n",
       "    <tr style=\"text-align: right;\">\n",
       "      <th></th>\n",
       "      <th>key</th>\n",
       "      <th>pickup_datetime</th>\n",
       "      <th>pickup_longitude</th>\n",
       "      <th>pickup_latitude</th>\n",
       "      <th>dropoff_longitude</th>\n",
       "      <th>dropoff_latitude</th>\n",
       "      <th>passenger_count</th>\n",
       "      <th>harvesine_distance</th>\n",
       "    </tr>\n",
       "  </thead>\n",
       "  <tbody>\n",
       "    <tr>\n",
       "      <th>0</th>\n",
       "      <td>2015-01-27 13:08:24.000000200</td>\n",
       "      <td>2015-01-27 13:08:24</td>\n",
       "      <td>-73.973320</td>\n",
       "      <td>40.763805</td>\n",
       "      <td>-73.981430</td>\n",
       "      <td>40.743835</td>\n",
       "      <td>1</td>\n",
       "      <td>2.323260</td>\n",
       "    </tr>\n",
       "    <tr>\n",
       "      <th>1</th>\n",
       "      <td>2015-01-27 13:08:24.000000300</td>\n",
       "      <td>2015-01-27 13:08:24</td>\n",
       "      <td>-73.986862</td>\n",
       "      <td>40.719383</td>\n",
       "      <td>-73.998886</td>\n",
       "      <td>40.739201</td>\n",
       "      <td>1</td>\n",
       "      <td>2.425353</td>\n",
       "    </tr>\n",
       "    <tr>\n",
       "      <th>2</th>\n",
       "      <td>2011-10-08 11:53:44.000000200</td>\n",
       "      <td>2011-10-08 11:53:44</td>\n",
       "      <td>-73.982524</td>\n",
       "      <td>40.751260</td>\n",
       "      <td>-73.979654</td>\n",
       "      <td>40.746139</td>\n",
       "      <td>1</td>\n",
       "      <td>0.618628</td>\n",
       "    </tr>\n",
       "    <tr>\n",
       "      <th>3</th>\n",
       "      <td>2012-12-01 21:12:12.000000200</td>\n",
       "      <td>2012-12-01 21:12:12</td>\n",
       "      <td>-73.981160</td>\n",
       "      <td>40.767807</td>\n",
       "      <td>-73.990448</td>\n",
       "      <td>40.751635</td>\n",
       "      <td>1</td>\n",
       "      <td>1.961033</td>\n",
       "    </tr>\n",
       "    <tr>\n",
       "      <th>4</th>\n",
       "      <td>2012-12-01 21:12:12.000000300</td>\n",
       "      <td>2012-12-01 21:12:12</td>\n",
       "      <td>-73.966046</td>\n",
       "      <td>40.789775</td>\n",
       "      <td>-73.988565</td>\n",
       "      <td>40.744427</td>\n",
       "      <td>1</td>\n",
       "      <td>5.387301</td>\n",
       "    </tr>\n",
       "  </tbody>\n",
       "</table>\n",
       "</div>"
      ],
      "text/plain": [
       "                            key     pickup_datetime  pickup_longitude  \\\n",
       "0 2015-01-27 13:08:24.000000200 2015-01-27 13:08:24        -73.973320   \n",
       "1 2015-01-27 13:08:24.000000300 2015-01-27 13:08:24        -73.986862   \n",
       "2 2011-10-08 11:53:44.000000200 2011-10-08 11:53:44        -73.982524   \n",
       "3 2012-12-01 21:12:12.000000200 2012-12-01 21:12:12        -73.981160   \n",
       "4 2012-12-01 21:12:12.000000300 2012-12-01 21:12:12        -73.966046   \n",
       "\n",
       "   pickup_latitude  dropoff_longitude  dropoff_latitude  passenger_count  \\\n",
       "0        40.763805         -73.981430         40.743835                1   \n",
       "1        40.719383         -73.998886         40.739201                1   \n",
       "2        40.751260         -73.979654         40.746139                1   \n",
       "3        40.767807         -73.990448         40.751635                1   \n",
       "4        40.789775         -73.988565         40.744427                1   \n",
       "\n",
       "   harvesine_distance  \n",
       "0            2.323260  \n",
       "1            2.425353  \n",
       "2            0.618628  \n",
       "3            1.961033  \n",
       "4            5.387301  "
      ]
     },
     "execution_count": 46,
     "metadata": {},
     "output_type": "execute_result"
    }
   ],
   "source": [
    "#check the data from test set\n",
    "test.head()"
   ]
  },
  {
   "cell_type": "code",
   "execution_count": 47,
   "metadata": {},
   "outputs": [],
   "source": [
    "#now lets create some column from date field\n",
    "data = [train,test]\n",
    "for i in data:\n",
    "    i['year'] = i['pickup_datetime'].dt.year\n",
    "    i['month'] = i['pickup_datetime'].dt.month\n",
    "    i['date'] = i['pickup_datetime'].dt.day\n",
    "    i['day_of_month'] = i['pickup_datetime'].dt.dayofweek\n",
    "    i['hour'] = i['pickup_datetime'].dt.hour"
   ]
  },
  {
   "cell_type": "code",
   "execution_count": 48,
   "metadata": {},
   "outputs": [
    {
     "data": {
      "text/html": [
       "<div>\n",
       "<style scoped>\n",
       "    .dataframe tbody tr th:only-of-type {\n",
       "        vertical-align: middle;\n",
       "    }\n",
       "\n",
       "    .dataframe tbody tr th {\n",
       "        vertical-align: top;\n",
       "    }\n",
       "\n",
       "    .dataframe thead th {\n",
       "        text-align: right;\n",
       "    }\n",
       "</style>\n",
       "<table border=\"1\" class=\"dataframe\">\n",
       "  <thead>\n",
       "    <tr style=\"text-align: right;\">\n",
       "      <th></th>\n",
       "      <th>key</th>\n",
       "      <th>fare_amount</th>\n",
       "      <th>pickup_datetime</th>\n",
       "      <th>pickup_longitude</th>\n",
       "      <th>pickup_latitude</th>\n",
       "      <th>dropoff_longitude</th>\n",
       "      <th>dropoff_latitude</th>\n",
       "      <th>passenger_count</th>\n",
       "      <th>harvesine_distance</th>\n",
       "      <th>year</th>\n",
       "      <th>month</th>\n",
       "      <th>date</th>\n",
       "      <th>day_of_month</th>\n",
       "      <th>hour</th>\n",
       "    </tr>\n",
       "  </thead>\n",
       "  <tbody>\n",
       "    <tr>\n",
       "      <th>0</th>\n",
       "      <td>2009-06-15 17:26:21.000000100</td>\n",
       "      <td>4.5</td>\n",
       "      <td>2009-06-15 17:26:21</td>\n",
       "      <td>-73.844311</td>\n",
       "      <td>40.721319</td>\n",
       "      <td>-73.841610</td>\n",
       "      <td>40.712278</td>\n",
       "      <td>1</td>\n",
       "      <td>1.030764</td>\n",
       "      <td>2009</td>\n",
       "      <td>6</td>\n",
       "      <td>15</td>\n",
       "      <td>0</td>\n",
       "      <td>17</td>\n",
       "    </tr>\n",
       "    <tr>\n",
       "      <th>1</th>\n",
       "      <td>2010-01-05 16:52:16.000000200</td>\n",
       "      <td>16.9</td>\n",
       "      <td>2010-01-05 16:52:16</td>\n",
       "      <td>-74.016048</td>\n",
       "      <td>40.711303</td>\n",
       "      <td>-73.979268</td>\n",
       "      <td>40.782004</td>\n",
       "      <td>1</td>\n",
       "      <td>8.450134</td>\n",
       "      <td>2010</td>\n",
       "      <td>1</td>\n",
       "      <td>5</td>\n",
       "      <td>1</td>\n",
       "      <td>16</td>\n",
       "    </tr>\n",
       "    <tr>\n",
       "      <th>2</th>\n",
       "      <td>2011-08-18 00:35:00.000000490</td>\n",
       "      <td>5.7</td>\n",
       "      <td>2011-08-18 00:35:00</td>\n",
       "      <td>-73.982738</td>\n",
       "      <td>40.761270</td>\n",
       "      <td>-73.991242</td>\n",
       "      <td>40.750562</td>\n",
       "      <td>2</td>\n",
       "      <td>1.389525</td>\n",
       "      <td>2011</td>\n",
       "      <td>8</td>\n",
       "      <td>18</td>\n",
       "      <td>3</td>\n",
       "      <td>0</td>\n",
       "    </tr>\n",
       "    <tr>\n",
       "      <th>3</th>\n",
       "      <td>2012-04-21 04:30:42.000000100</td>\n",
       "      <td>7.7</td>\n",
       "      <td>2012-04-21 04:30:42</td>\n",
       "      <td>-73.987130</td>\n",
       "      <td>40.733143</td>\n",
       "      <td>-73.991567</td>\n",
       "      <td>40.758092</td>\n",
       "      <td>1</td>\n",
       "      <td>2.799270</td>\n",
       "      <td>2012</td>\n",
       "      <td>4</td>\n",
       "      <td>21</td>\n",
       "      <td>5</td>\n",
       "      <td>4</td>\n",
       "    </tr>\n",
       "    <tr>\n",
       "      <th>4</th>\n",
       "      <td>2010-03-09 07:51:00.000000135</td>\n",
       "      <td>5.3</td>\n",
       "      <td>2010-03-09 07:51:00</td>\n",
       "      <td>-73.968095</td>\n",
       "      <td>40.768008</td>\n",
       "      <td>-73.956655</td>\n",
       "      <td>40.783762</td>\n",
       "      <td>1</td>\n",
       "      <td>1.999157</td>\n",
       "      <td>2010</td>\n",
       "      <td>3</td>\n",
       "      <td>9</td>\n",
       "      <td>1</td>\n",
       "      <td>7</td>\n",
       "    </tr>\n",
       "  </tbody>\n",
       "</table>\n",
       "</div>"
      ],
      "text/plain": [
       "                            key  fare_amount     pickup_datetime  \\\n",
       "0 2009-06-15 17:26:21.000000100          4.5 2009-06-15 17:26:21   \n",
       "1 2010-01-05 16:52:16.000000200         16.9 2010-01-05 16:52:16   \n",
       "2 2011-08-18 00:35:00.000000490          5.7 2011-08-18 00:35:00   \n",
       "3 2012-04-21 04:30:42.000000100          7.7 2012-04-21 04:30:42   \n",
       "4 2010-03-09 07:51:00.000000135          5.3 2010-03-09 07:51:00   \n",
       "\n",
       "   pickup_longitude  pickup_latitude  dropoff_longitude  dropoff_latitude  \\\n",
       "0        -73.844311        40.721319         -73.841610         40.712278   \n",
       "1        -74.016048        40.711303         -73.979268         40.782004   \n",
       "2        -73.982738        40.761270         -73.991242         40.750562   \n",
       "3        -73.987130        40.733143         -73.991567         40.758092   \n",
       "4        -73.968095        40.768008         -73.956655         40.783762   \n",
       "\n",
       "   passenger_count  harvesine_distance  year  month  date  day_of_month  hour  \n",
       "0                1            1.030764  2009      6    15             0    17  \n",
       "1                1            8.450134  2010      1     5             1    16  \n",
       "2                2            1.389525  2011      8    18             3     0  \n",
       "3                1            2.799270  2012      4    21             5     4  \n",
       "4                1            1.999157  2010      3     9             1     7  "
      ]
     },
     "execution_count": 48,
     "metadata": {},
     "output_type": "execute_result"
    }
   ],
   "source": [
    "train.head()"
   ]
  },
  {
   "cell_type": "markdown",
   "metadata": {},
   "source": [
    "#### 1. Does the number of passengers affect the fare?"
   ]
  },
  {
   "cell_type": "code",
   "execution_count": 49,
   "metadata": {},
   "outputs": [
    {
     "data": {
      "text/plain": [
       "<matplotlib.text.Text at 0x2160410bb70>"
      ]
     },
     "execution_count": 49,
     "metadata": {},
     "output_type": "execute_result"
    },
    {
     "data": {
      "image/png": "[encoded data removed]",
      "text/plain": [
       "<matplotlib.figure.Figure at 0x2160519f550>"
      ]
     },
     "metadata": {},
     "output_type": "display_data"
    }
   ],
   "source": [
    "plt.figure(figsize= (8,5))\n",
    "plt.hist(train['passenger_count'],bins = 15)\n",
    "plt.xlabel('Number of Passengers')\n",
    "plt.ylabel('Frequency')"
   ]
  },
  {
   "cell_type": "code",
   "execution_count": 50,
   "metadata": {},
   "outputs": [
    {
     "data": {
      "text/plain": [
       "<matplotlib.text.Text at 0x216042bf198>"
      ]
     },
     "execution_count": 50,
     "metadata": {},
     "output_type": "execute_result"
    },
    {
     "data": {
      "image/png": "[encoded data removed]",
      "text/plain": [
       "<matplotlib.figure.Figure at 0x21604290160>"
      ]
     },
     "metadata": {},
     "output_type": "display_data"
    }
   ],
   "source": [
    "plt.figure(figsize = (8,5))\n",
    "plt.scatter(x = train['passenger_count'], y = train['fare_amount'], s= 1.5)\n",
    "plt.xlabel('Number of Passengers')\n",
    "plt.ylabel('Fare Amount')"
   ]
  },
  {
   "cell_type": "markdown",
   "metadata": {},
   "source": [
    "- By seeing the above graphs we can see that single passengers are the frequnt tranvellers. Maximum fare is also generated from the single passenger.\n",
    "\n",
    "- Now Let's see Does the date and time of pickup  affect the fare amount?"
   ]
  },
  {
   "cell_type": "markdown",
   "metadata": {},
   "source": [
    "#### 2. Does the date and time of pickup affect the fare?"
   ]
  },
  {
   "cell_type": "code",
   "execution_count": 51,
   "metadata": {},
   "outputs": [
    {
     "data": {
      "text/plain": [
       "<matplotlib.text.Text at 0x216042bfcf8>"
      ]
     },
     "execution_count": 51,
     "metadata": {},
     "output_type": "execute_result"
    },
    {
     "data": {
      "image/png": "[encoded data removed]",
      "text/plain": [
       "<matplotlib.figure.Figure at 0x21606a1b6d8>"
      ]
     },
     "metadata": {},
     "output_type": "display_data"
    }
   ],
   "source": [
    "plt.figure(figsize = (8,5))\n",
    "plt.scatter(x=train['date'],y = train['fare_amount'],s = 1.5)\n",
    "plt.xlabel('Date')\n",
    "plt.ylabel('Fare')"
   ]
  },
  {
   "cell_type": "code",
   "execution_count": 52,
   "metadata": {},
   "outputs": [
    {
     "data": {
      "text/plain": [
       "<matplotlib.text.Text at 0x21611043c88>"
      ]
     },
     "execution_count": 52,
     "metadata": {},
     "output_type": "execute_result"
    },
    {
     "data": {
      "image/png": "[encoded data removed]",
      "text/plain": [
       "<matplotlib.figure.Figure at 0x2161102ab38>"
      ]
     },
     "metadata": {},
     "output_type": "display_data"
    }
   ],
   "source": [
    "plt.figure(figsize = (10,5))\n",
    "plt.hist(train['hour'], bins= 100)\n",
    "plt.xlabel('Hour')\n",
    "plt.ylabel('Fare')"
   ]
  },
  {
   "cell_type": "markdown",
   "metadata": {},
   "source": [
    "- Interestingly we can see that the can booking is very low at 5AM and very high at 7PM.\n",
    "\n",
    "- Does the day of the week affect the fare?"
   ]
  },
  {
   "cell_type": "markdown",
   "metadata": {},
   "source": [
    "#### 3. Does the day of the week affect the fare?"
   ]
  },
  {
   "cell_type": "code",
   "execution_count": 53,
   "metadata": {},
   "outputs": [
    {
     "data": {
      "text/plain": [
       "<matplotlib.text.Text at 0x21604570358>"
      ]
     },
     "execution_count": 53,
     "metadata": {},
     "output_type": "execute_result"
    },
    {
     "data": {
      "image/png": "[encoded data removed]",
      "text/plain": [
       "<matplotlib.figure.Figure at 0x216045a9e80>"
      ]
     },
     "metadata": {},
     "output_type": "display_data"
    }
   ],
   "source": [
    "plt.figure(figsize = (8,5))\n",
    "plt.scatter(x = train['day_of_month'], y= train['fare_amount'], s= 1.5)\n",
    "plt.xlabel('Day of Week')\n",
    "plt.ylabel('Fare Amount')"
   ]
  },
  {
   "cell_type": "code",
   "execution_count": 54,
   "metadata": {},
   "outputs": [
    {
     "data": {
      "text/plain": [
       "<matplotlib.text.Text at 0x216045923c8>"
      ]
     },
     "execution_count": 54,
     "metadata": {},
     "output_type": "execute_result"
    },
    {
     "data": {
      "image/png": "[encoded data removed]",
      "text/plain": [
       "<matplotlib.figure.Figure at 0x21606a203c8>"
      ]
     },
     "metadata": {},
     "output_type": "display_data"
    }
   ],
   "source": [
    "plt.figure(figsize = (8,5))\n",
    "plt.hist(train['day_of_month'],bins= 50)\n",
    "plt.xlabel('Day of Week')\n",
    "plt.ylabel('Fare Amount')"
   ]
  },
  {
   "cell_type": "markdown",
   "metadata": {},
   "source": [
    "- By seeing the plots for day of week we can clearly observe the highest fare is earned on Sunday and Monday.\n",
    "- Also people travel Thursday more than any other day."
   ]
  },
  {
   "cell_type": "code",
   "execution_count": null,
   "metadata": {},
   "outputs": [],
   "source": []
  },
  {
   "cell_type": "code",
   "execution_count": 55,
   "metadata": {},
   "outputs": [
    {
     "data": {
      "text/plain": [
       "Index(['harvesine_distance', 'bins'], dtype='object')"
      ]
     },
     "execution_count": 55,
     "metadata": {},
     "output_type": "execute_result"
    }
   ],
   "source": [
    "bins_0 = train.loc[(train['harvesine_distance'] == 0), ['harvesine_distance']]\n",
    "bins_1 = train.loc[(train['harvesine_distance'] > 0) & (train['harvesine_distance'] <= 10),['harvesine_distance']]\n",
    "bins_2 = train.loc[(train['harvesine_distance'] > 10) & (train['harvesine_distance'] <= 50),['harvesine_distance']]\n",
    "bins_3 = train.loc[(train['harvesine_distance'] > 50) & (train['harvesine_distance'] <= 100),['harvesine_distance']]\n",
    "bins_4 = train.loc[(train['harvesine_distance'] > 100) & (train['harvesine_distance'] <= 200),['harvesine_distance']]\n",
    "bins_5 = train.loc[(train['harvesine_distance'] > 200) & (train['harvesine_distance'] <= 300),['harvesine_distance']]\n",
    "bins_6 = train.loc[(train['harvesine_distance'] > 300),['harvesine_distance']]\n",
    "bins_0['bins'] = '0'\n",
    "bins_1['bins'] = '0-10'\n",
    "bins_2['bins'] = '11-50'\n",
    "bins_3['bins'] = '51-100'\n",
    "bins_4['bins'] = '100-200'\n",
    "bins_5['bins'] = '201-300'\n",
    "bins_6['bins'] = '>300'\n",
    "dist_bins =pd.concat([bins_0,bins_1,bins_2,bins_3,bins_4,bins_5,bins_6])\n",
    "#len(dist_bins)\n",
    "dist_bins.columns"
   ]
  },
  {
   "cell_type": "code",
   "execution_count": 56,
   "metadata": {},
   "outputs": [
    {
     "data": {
      "text/plain": [
       "0-10       920071\n",
       "11-50       49073\n",
       "0           28481\n",
       ">300         1928\n",
       "100-200       206\n",
       "51-100        147\n",
       "201-300         5\n",
       "Name: bins, dtype: int64"
      ]
     },
     "execution_count": 56,
     "metadata": {},
     "output_type": "execute_result"
    }
   ],
   "source": [
    "dist_bins['bins'].value_counts()"
   ]
  },
  {
   "cell_type": "markdown",
   "metadata": {},
   "source": [
    "- From the above count results we can clearly see there are 28481 records which has distance as zero.\n",
    "- Also there are 1928 records where distance is more than 300KM. Since the number of records are high we will keep these outlier records which may have caused due to missing values in latitude and longitude.\n",
    "    - Pickup latitude and pickup longitude are 0 but dropoff latitude and longitude are not 0, but the fare is 0."
   ]
  },
  {
   "cell_type": "code",
   "execution_count": 57,
   "metadata": {},
   "outputs": [
    {
     "data": {
      "text/html": [
       "<div>\n",
       "<style scoped>\n",
       "    .dataframe tbody tr th:only-of-type {\n",
       "        vertical-align: middle;\n",
       "    }\n",
       "\n",
       "    .dataframe tbody tr th {\n",
       "        vertical-align: top;\n",
       "    }\n",
       "\n",
       "    .dataframe thead th {\n",
       "        text-align: right;\n",
       "    }\n",
       "</style>\n",
       "<table border=\"1\" class=\"dataframe\">\n",
       "  <thead>\n",
       "    <tr style=\"text-align: right;\">\n",
       "      <th></th>\n",
       "      <th>key</th>\n",
       "      <th>fare_amount</th>\n",
       "      <th>pickup_datetime</th>\n",
       "      <th>pickup_longitude</th>\n",
       "      <th>pickup_latitude</th>\n",
       "      <th>dropoff_longitude</th>\n",
       "      <th>dropoff_latitude</th>\n",
       "      <th>passenger_count</th>\n",
       "      <th>harvesine_distance</th>\n",
       "      <th>year</th>\n",
       "      <th>month</th>\n",
       "      <th>date</th>\n",
       "      <th>day_of_month</th>\n",
       "      <th>hour</th>\n",
       "    </tr>\n",
       "  </thead>\n",
       "  <tbody>\n",
       "    <tr>\n",
       "      <th>897211</th>\n",
       "      <td>2015-04-08 00:47:30.000000100</td>\n",
       "      <td>0.0</td>\n",
       "      <td>2015-04-08 00:47:30</td>\n",
       "      <td>0.0</td>\n",
       "      <td>0.0</td>\n",
       "      <td>-73.937698</td>\n",
       "      <td>40.758118</td>\n",
       "      <td>1</td>\n",
       "      <td>8662.340373</td>\n",
       "      <td>2015</td>\n",
       "      <td>4</td>\n",
       "      <td>8</td>\n",
       "      <td>2</td>\n",
       "      <td>0</td>\n",
       "    </tr>\n",
       "  </tbody>\n",
       "</table>\n",
       "</div>"
      ],
      "text/plain": [
       "                                 key  fare_amount     pickup_datetime  \\\n",
       "897211 2015-04-08 00:47:30.000000100          0.0 2015-04-08 00:47:30   \n",
       "\n",
       "        pickup_longitude  pickup_latitude  dropoff_longitude  \\\n",
       "897211               0.0              0.0         -73.937698   \n",
       "\n",
       "        dropoff_latitude  passenger_count  harvesine_distance  year  month  \\\n",
       "897211         40.758118                1         8662.340373  2015      4   \n",
       "\n",
       "        date  day_of_month  hour  \n",
       "897211     8             2     0  "
      ]
     },
     "execution_count": 57,
     "metadata": {},
     "output_type": "execute_result"
    }
   ],
   "source": [
    "#pickup latitude and longitude = 0\n",
    "train.loc[((train['pickup_latitude'] == 0) & (train['pickup_longitude'] == 0)) & ((train['dropoff_latitude'] !=0) & (train['dropoff_longitude'] !=0)) & (train['fare_amount']== 0)]"
   ]
  },
  {
   "cell_type": "code",
   "execution_count": 58,
   "metadata": {},
   "outputs": [],
   "source": [
    "# drop records which has pickup latitude and longitude = 0 and fare =0\n",
    "train.drop(train.loc[((train['pickup_latitude'] == 0) & (train['pickup_longitude'] == 0)) & ((train['dropoff_latitude'] !=0) & (train['dropoff_longitude'] !=0)) & (train['fare_amount']== 0)].index, axis = 0, inplace = True)"
   ]
  },
  {
   "cell_type": "code",
   "execution_count": 59,
   "metadata": {},
   "outputs": [
    {
     "data": {
      "text/plain": [
       "(999910, 14)"
      ]
     },
     "execution_count": 59,
     "metadata": {},
     "output_type": "execute_result"
    }
   ],
   "source": [
    "train.shape"
   ]
  },
  {
   "cell_type": "code",
   "execution_count": 60,
   "metadata": {},
   "outputs": [
    {
     "data": {
      "text/html": [
       "<div>\n",
       "<style scoped>\n",
       "    .dataframe tbody tr th:only-of-type {\n",
       "        vertical-align: middle;\n",
       "    }\n",
       "\n",
       "    .dataframe tbody tr th {\n",
       "        vertical-align: top;\n",
       "    }\n",
       "\n",
       "    .dataframe thead th {\n",
       "        text-align: right;\n",
       "    }\n",
       "</style>\n",
       "<table border=\"1\" class=\"dataframe\">\n",
       "  <thead>\n",
       "    <tr style=\"text-align: right;\">\n",
       "      <th></th>\n",
       "      <th>key</th>\n",
       "      <th>pickup_datetime</th>\n",
       "      <th>pickup_longitude</th>\n",
       "      <th>pickup_latitude</th>\n",
       "      <th>dropoff_longitude</th>\n",
       "      <th>dropoff_latitude</th>\n",
       "      <th>passenger_count</th>\n",
       "      <th>harvesine_distance</th>\n",
       "      <th>year</th>\n",
       "      <th>month</th>\n",
       "      <th>date</th>\n",
       "      <th>day_of_month</th>\n",
       "      <th>hour</th>\n",
       "    </tr>\n",
       "  </thead>\n",
       "  <tbody>\n",
       "  </tbody>\n",
       "</table>\n",
       "</div>"
      ],
      "text/plain": [
       "Empty DataFrame\n",
       "Columns: [key, pickup_datetime, pickup_longitude, pickup_latitude, dropoff_longitude, dropoff_latitude, passenger_count, harvesine_distance, year, month, date, day_of_month, hour]\n",
       "Index: []"
      ]
     },
     "execution_count": 60,
     "metadata": {},
     "output_type": "execute_result"
    }
   ],
   "source": [
    "#Check in test data\n",
    "test.loc[((test['pickup_latitude']==0) & (test['pickup_longitude']==0))&((test['dropoff_latitude']!=0) & (test['dropoff_longitude']!=0))]"
   ]
  },
  {
   "cell_type": "code",
   "execution_count": 61,
   "metadata": {},
   "outputs": [
    {
     "data": {
      "text/html": [
       "<div>\n",
       "<style scoped>\n",
       "    .dataframe tbody tr th:only-of-type {\n",
       "        vertical-align: middle;\n",
       "    }\n",
       "\n",
       "    .dataframe tbody tr th {\n",
       "        vertical-align: top;\n",
       "    }\n",
       "\n",
       "    .dataframe thead th {\n",
       "        text-align: right;\n",
       "    }\n",
       "</style>\n",
       "<table border=\"1\" class=\"dataframe\">\n",
       "  <thead>\n",
       "    <tr style=\"text-align: right;\">\n",
       "      <th></th>\n",
       "      <th>key</th>\n",
       "      <th>fare_amount</th>\n",
       "      <th>pickup_datetime</th>\n",
       "      <th>pickup_longitude</th>\n",
       "      <th>pickup_latitude</th>\n",
       "      <th>dropoff_longitude</th>\n",
       "      <th>dropoff_latitude</th>\n",
       "      <th>passenger_count</th>\n",
       "      <th>harvesine_distance</th>\n",
       "      <th>year</th>\n",
       "      <th>month</th>\n",
       "      <th>date</th>\n",
       "      <th>day_of_month</th>\n",
       "      <th>hour</th>\n",
       "    </tr>\n",
       "  </thead>\n",
       "  <tbody>\n",
       "    <tr>\n",
       "      <th>930680</th>\n",
       "      <td>2015-03-21 21:27:02.000000200</td>\n",
       "      <td>0.0</td>\n",
       "      <td>2015-03-21 21:27:02</td>\n",
       "      <td>-73.982101</td>\n",
       "      <td>40.770557</td>\n",
       "      <td>0.0</td>\n",
       "      <td>0.0</td>\n",
       "      <td>2</td>\n",
       "      <td>8666.270974</td>\n",
       "      <td>2015</td>\n",
       "      <td>3</td>\n",
       "      <td>21</td>\n",
       "      <td>5</td>\n",
       "      <td>21</td>\n",
       "    </tr>\n",
       "    <tr>\n",
       "      <th>942215</th>\n",
       "      <td>2015-03-22 00:36:37.000000900</td>\n",
       "      <td>0.0</td>\n",
       "      <td>2015-03-22 00:36:37</td>\n",
       "      <td>-73.952240</td>\n",
       "      <td>40.749435</td>\n",
       "      <td>0.0</td>\n",
       "      <td>0.0</td>\n",
       "      <td>1</td>\n",
       "      <td>8663.365938</td>\n",
       "      <td>2015</td>\n",
       "      <td>3</td>\n",
       "      <td>22</td>\n",
       "      <td>6</td>\n",
       "      <td>0</td>\n",
       "    </tr>\n",
       "    <tr>\n",
       "      <th>949564</th>\n",
       "      <td>2015-04-28 11:18:39.000000400</td>\n",
       "      <td>0.0</td>\n",
       "      <td>2015-04-28 11:18:39</td>\n",
       "      <td>-73.996246</td>\n",
       "      <td>40.748653</td>\n",
       "      <td>0.0</td>\n",
       "      <td>0.0</td>\n",
       "      <td>1</td>\n",
       "      <td>8666.993460</td>\n",
       "      <td>2015</td>\n",
       "      <td>4</td>\n",
       "      <td>28</td>\n",
       "      <td>1</td>\n",
       "      <td>11</td>\n",
       "    </tr>\n",
       "  </tbody>\n",
       "</table>\n",
       "</div>"
      ],
      "text/plain": [
       "                                 key  fare_amount     pickup_datetime  \\\n",
       "930680 2015-03-21 21:27:02.000000200          0.0 2015-03-21 21:27:02   \n",
       "942215 2015-03-22 00:36:37.000000900          0.0 2015-03-22 00:36:37   \n",
       "949564 2015-04-28 11:18:39.000000400          0.0 2015-04-28 11:18:39   \n",
       "\n",
       "        pickup_longitude  pickup_latitude  dropoff_longitude  \\\n",
       "930680        -73.982101        40.770557                0.0   \n",
       "942215        -73.952240        40.749435                0.0   \n",
       "949564        -73.996246        40.748653                0.0   \n",
       "\n",
       "        dropoff_latitude  passenger_count  harvesine_distance  year  month  \\\n",
       "930680               0.0                2         8666.270974  2015      3   \n",
       "942215               0.0                1         8663.365938  2015      3   \n",
       "949564               0.0                1         8666.993460  2015      4   \n",
       "\n",
       "        date  day_of_month  hour  \n",
       "930680    21             5    21  \n",
       "942215    22             6     0  \n",
       "949564    28             1    11  "
      ]
     },
     "execution_count": 61,
     "metadata": {},
     "output_type": "execute_result"
    }
   ],
   "source": [
    "#dropoff latitude and longitude = 0\n",
    "train.loc[((train['pickup_latitude']!=0) & (train['pickup_longitude']!=0))&((train['dropoff_latitude']==0) & (train['dropoff_longitude']==0)) & (train['fare_amount']==0)]"
   ]
  },
  {
   "cell_type": "code",
   "execution_count": 62,
   "metadata": {},
   "outputs": [],
   "source": [
    "#dropoff latitude and longitude = 0\n",
    "train.drop(train.loc[((train['pickup_latitude']!=0) & (train['pickup_longitude']!=0))&((train['dropoff_latitude']==0) & (train['dropoff_longitude']==0)) & (train['fare_amount']==0)].index, axis=0, inplace = True)"
   ]
  },
  {
   "cell_type": "code",
   "execution_count": 63,
   "metadata": {},
   "outputs": [
    {
     "data": {
      "text/plain": [
       "(999907, 14)"
      ]
     },
     "execution_count": 63,
     "metadata": {},
     "output_type": "execute_result"
    }
   ],
   "source": [
    "train.shape"
   ]
  },
  {
   "cell_type": "code",
   "execution_count": 64,
   "metadata": {},
   "outputs": [
    {
     "data": {
      "text/html": [
       "<div>\n",
       "<style scoped>\n",
       "    .dataframe tbody tr th:only-of-type {\n",
       "        vertical-align: middle;\n",
       "    }\n",
       "\n",
       "    .dataframe tbody tr th {\n",
       "        vertical-align: top;\n",
       "    }\n",
       "\n",
       "    .dataframe thead th {\n",
       "        text-align: right;\n",
       "    }\n",
       "</style>\n",
       "<table border=\"1\" class=\"dataframe\">\n",
       "  <thead>\n",
       "    <tr style=\"text-align: right;\">\n",
       "      <th></th>\n",
       "      <th>key</th>\n",
       "      <th>pickup_datetime</th>\n",
       "      <th>pickup_longitude</th>\n",
       "      <th>pickup_latitude</th>\n",
       "      <th>dropoff_longitude</th>\n",
       "      <th>dropoff_latitude</th>\n",
       "      <th>passenger_count</th>\n",
       "      <th>harvesine_distance</th>\n",
       "      <th>year</th>\n",
       "      <th>month</th>\n",
       "      <th>date</th>\n",
       "      <th>day_of_month</th>\n",
       "      <th>hour</th>\n",
       "    </tr>\n",
       "  </thead>\n",
       "  <tbody>\n",
       "  </tbody>\n",
       "</table>\n",
       "</div>"
      ],
      "text/plain": [
       "Empty DataFrame\n",
       "Columns: [key, pickup_datetime, pickup_longitude, pickup_latitude, dropoff_longitude, dropoff_latitude, passenger_count, harvesine_distance, year, month, date, day_of_month, hour]\n",
       "Index: []"
      ]
     },
     "execution_count": 64,
     "metadata": {},
     "output_type": "execute_result"
    }
   ],
   "source": [
    "#Checking test data\n",
    "#Again no records! AWESOME!\n",
    "test.loc[((test['pickup_latitude']!=0) & (test['pickup_longitude']!=0))&((test['dropoff_latitude']==0) & (test['dropoff_longitude']==0))]"
   ]
  },
  {
   "cell_type": "markdown",
   "metadata": {},
   "source": [
    "- Let's check the harvesine_distance fields which are greater than 200 kms cause there is no way that people would travel more than 200 kms at the most in NYC in a CAB!"
   ]
  },
  {
   "cell_type": "code",
   "execution_count": 65,
   "metadata": {},
   "outputs": [],
   "source": [
    "high_distance = 0"
   ]
  },
  {
   "cell_type": "code",
   "execution_count": 66,
   "metadata": {},
   "outputs": [],
   "source": [
    "high_distance = train.loc[(train['harvesine_distance']>200)&(train['fare_amount']!=0)]"
   ]
  },
  {
   "cell_type": "code",
   "execution_count": 67,
   "metadata": {},
   "outputs": [
    {
     "data": {
      "text/plain": [
       "(1929, 14)"
      ]
     },
     "execution_count": 67,
     "metadata": {},
     "output_type": "execute_result"
    }
   ],
   "source": [
    "high_distance.shape"
   ]
  },
  {
   "cell_type": "code",
   "execution_count": 68,
   "metadata": {},
   "outputs": [
    {
     "name": "stderr",
     "output_type": "stream",
     "text": [
      "C:\\Users\\sandeepkumar8\\AppData\\Local\\Continuum\\anaconda3\\lib\\site-packages\\ipykernel_launcher.py:2: SettingWithCopyWarning: \n",
      "A value is trying to be set on a copy of a slice from a DataFrame.\n",
      "Try using .loc[row_indexer,col_indexer] = value instead\n",
      "\n",
      "See the caveats in the documentation: http://pandas.pydata.org/pandas-docs/stable/indexing.html#indexing-view-versus-copy\n",
      "  \n"
     ]
    }
   ],
   "source": [
    "high_distance['harvesine_distance'] = high_distance.apply(\n",
    "    lambda row: ( row['fare_amount'] - 2.50) / 1.56, axis = 1\n",
    "\n",
    ")"
   ]
  },
  {
   "cell_type": "code",
   "execution_count": 69,
   "metadata": {},
   "outputs": [
    {
     "data": {
      "text/html": [
       "<div>\n",
       "<style scoped>\n",
       "    .dataframe tbody tr th:only-of-type {\n",
       "        vertical-align: middle;\n",
       "    }\n",
       "\n",
       "    .dataframe tbody tr th {\n",
       "        vertical-align: top;\n",
       "    }\n",
       "\n",
       "    .dataframe thead th {\n",
       "        text-align: right;\n",
       "    }\n",
       "</style>\n",
       "<table border=\"1\" class=\"dataframe\">\n",
       "  <thead>\n",
       "    <tr style=\"text-align: right;\">\n",
       "      <th></th>\n",
       "      <th>key</th>\n",
       "      <th>fare_amount</th>\n",
       "      <th>pickup_datetime</th>\n",
       "      <th>pickup_longitude</th>\n",
       "      <th>pickup_latitude</th>\n",
       "      <th>dropoff_longitude</th>\n",
       "      <th>dropoff_latitude</th>\n",
       "      <th>passenger_count</th>\n",
       "      <th>harvesine_distance</th>\n",
       "      <th>year</th>\n",
       "      <th>month</th>\n",
       "      <th>date</th>\n",
       "      <th>day_of_month</th>\n",
       "      <th>hour</th>\n",
       "    </tr>\n",
       "  </thead>\n",
       "  <tbody>\n",
       "    <tr>\n",
       "      <th>472</th>\n",
       "      <td>2009-02-22 22:48:00.000000130</td>\n",
       "      <td>2.50</td>\n",
       "      <td>2009-02-22 22:48:00</td>\n",
       "      <td>0.000000</td>\n",
       "      <td>0.000000</td>\n",
       "      <td>-74.005433</td>\n",
       "      <td>40.726685</td>\n",
       "      <td>2</td>\n",
       "      <td>0.000000</td>\n",
       "      <td>2009</td>\n",
       "      <td>2</td>\n",
       "      <td>22</td>\n",
       "      <td>6</td>\n",
       "      <td>22</td>\n",
       "    </tr>\n",
       "    <tr>\n",
       "      <th>1260</th>\n",
       "      <td>2011-03-10 20:25:00.000000490</td>\n",
       "      <td>5.70</td>\n",
       "      <td>2011-03-10 20:25:00</td>\n",
       "      <td>-73.973907</td>\n",
       "      <td>40.754743</td>\n",
       "      <td>0.000000</td>\n",
       "      <td>0.000000</td>\n",
       "      <td>2</td>\n",
       "      <td>2.051282</td>\n",
       "      <td>2011</td>\n",
       "      <td>3</td>\n",
       "      <td>10</td>\n",
       "      <td>3</td>\n",
       "      <td>20</td>\n",
       "    </tr>\n",
       "    <tr>\n",
       "      <th>2280</th>\n",
       "      <td>2011-08-29 08:24:00.000000107</td>\n",
       "      <td>8.90</td>\n",
       "      <td>2011-08-29 08:24:00</td>\n",
       "      <td>-73.936667</td>\n",
       "      <td>40.757815</td>\n",
       "      <td>0.000000</td>\n",
       "      <td>40.757815</td>\n",
       "      <td>1</td>\n",
       "      <td>4.102564</td>\n",
       "      <td>2011</td>\n",
       "      <td>8</td>\n",
       "      <td>29</td>\n",
       "      <td>0</td>\n",
       "      <td>8</td>\n",
       "    </tr>\n",
       "    <tr>\n",
       "      <th>2397</th>\n",
       "      <td>2012-06-24 17:11:10.000000100</td>\n",
       "      <td>45.00</td>\n",
       "      <td>2012-06-24 17:11:10</td>\n",
       "      <td>0.000000</td>\n",
       "      <td>0.000000</td>\n",
       "      <td>-74.010230</td>\n",
       "      <td>40.714553</td>\n",
       "      <td>2</td>\n",
       "      <td>27.243590</td>\n",
       "      <td>2012</td>\n",
       "      <td>6</td>\n",
       "      <td>24</td>\n",
       "      <td>6</td>\n",
       "      <td>17</td>\n",
       "    </tr>\n",
       "    <tr>\n",
       "      <th>4278</th>\n",
       "      <td>2015-04-07 23:33:02.000000500</td>\n",
       "      <td>7.00</td>\n",
       "      <td>2015-04-07 23:33:02</td>\n",
       "      <td>-73.972702</td>\n",
       "      <td>40.757423</td>\n",
       "      <td>0.000000</td>\n",
       "      <td>0.000000</td>\n",
       "      <td>1</td>\n",
       "      <td>2.884615</td>\n",
       "      <td>2015</td>\n",
       "      <td>4</td>\n",
       "      <td>7</td>\n",
       "      <td>1</td>\n",
       "      <td>23</td>\n",
       "    </tr>\n",
       "    <tr>\n",
       "      <th>4597</th>\n",
       "      <td>2010-03-30 07:12:00.000000158</td>\n",
       "      <td>6.90</td>\n",
       "      <td>2010-03-30 07:12:00</td>\n",
       "      <td>0.000000</td>\n",
       "      <td>0.000000</td>\n",
       "      <td>-73.989693</td>\n",
       "      <td>40.754280</td>\n",
       "      <td>1</td>\n",
       "      <td>2.820513</td>\n",
       "      <td>2010</td>\n",
       "      <td>3</td>\n",
       "      <td>30</td>\n",
       "      <td>1</td>\n",
       "      <td>7</td>\n",
       "    </tr>\n",
       "    <tr>\n",
       "      <th>5864</th>\n",
       "      <td>2012-03-04 01:35:00.000000173</td>\n",
       "      <td>8.50</td>\n",
       "      <td>2012-03-04 01:35:00</td>\n",
       "      <td>-73.995030</td>\n",
       "      <td>40.744945</td>\n",
       "      <td>-7.986640</td>\n",
       "      <td>40.729937</td>\n",
       "      <td>1</td>\n",
       "      <td>3.846154</td>\n",
       "      <td>2012</td>\n",
       "      <td>3</td>\n",
       "      <td>4</td>\n",
       "      <td>6</td>\n",
       "      <td>1</td>\n",
       "    </tr>\n",
       "    <tr>\n",
       "      <th>6188</th>\n",
       "      <td>2014-07-28 15:04:00.000000280</td>\n",
       "      <td>15.50</td>\n",
       "      <td>2014-07-28 15:04:00</td>\n",
       "      <td>0.000000</td>\n",
       "      <td>0.000000</td>\n",
       "      <td>-73.952980</td>\n",
       "      <td>40.786670</td>\n",
       "      <td>5</td>\n",
       "      <td>8.333333</td>\n",
       "      <td>2014</td>\n",
       "      <td>7</td>\n",
       "      <td>28</td>\n",
       "      <td>0</td>\n",
       "      <td>15</td>\n",
       "    </tr>\n",
       "    <tr>\n",
       "      <th>6302</th>\n",
       "      <td>2015-02-27 16:18:58.000000400</td>\n",
       "      <td>16.50</td>\n",
       "      <td>2015-02-27 16:18:58</td>\n",
       "      <td>0.000000</td>\n",
       "      <td>0.000000</td>\n",
       "      <td>-73.936600</td>\n",
       "      <td>40.796543</td>\n",
       "      <td>1</td>\n",
       "      <td>8.974359</td>\n",
       "      <td>2015</td>\n",
       "      <td>2</td>\n",
       "      <td>27</td>\n",
       "      <td>4</td>\n",
       "      <td>16</td>\n",
       "    </tr>\n",
       "    <tr>\n",
       "      <th>7014</th>\n",
       "      <td>2011-06-18 04:03:00.000000830</td>\n",
       "      <td>4.50</td>\n",
       "      <td>2011-06-18 04:03:00</td>\n",
       "      <td>-73.988980</td>\n",
       "      <td>40.721697</td>\n",
       "      <td>-74.001073</td>\n",
       "      <td>0.728087</td>\n",
       "      <td>3</td>\n",
       "      <td>1.282051</td>\n",
       "      <td>2011</td>\n",
       "      <td>6</td>\n",
       "      <td>18</td>\n",
       "      <td>5</td>\n",
       "      <td>4</td>\n",
       "    </tr>\n",
       "    <tr>\n",
       "      <th>8647</th>\n",
       "      <td>2014-03-27 18:01:00.000000710</td>\n",
       "      <td>21.50</td>\n",
       "      <td>2014-03-27 18:01:00</td>\n",
       "      <td>-74.001808</td>\n",
       "      <td>40.750782</td>\n",
       "      <td>0.000000</td>\n",
       "      <td>0.000000</td>\n",
       "      <td>1</td>\n",
       "      <td>12.179487</td>\n",
       "      <td>2014</td>\n",
       "      <td>3</td>\n",
       "      <td>27</td>\n",
       "      <td>3</td>\n",
       "      <td>18</td>\n",
       "    </tr>\n",
       "    <tr>\n",
       "      <th>9147</th>\n",
       "      <td>2014-07-14 21:37:29.000000200</td>\n",
       "      <td>8.50</td>\n",
       "      <td>2014-07-14 21:37:29</td>\n",
       "      <td>0.000000</td>\n",
       "      <td>0.000000</td>\n",
       "      <td>-74.002037</td>\n",
       "      <td>40.752035</td>\n",
       "      <td>1</td>\n",
       "      <td>3.846154</td>\n",
       "      <td>2014</td>\n",
       "      <td>7</td>\n",
       "      <td>14</td>\n",
       "      <td>0</td>\n",
       "      <td>21</td>\n",
       "    </tr>\n",
       "    <tr>\n",
       "      <th>10215</th>\n",
       "      <td>2011-03-18 09:33:41.000000300</td>\n",
       "      <td>13.30</td>\n",
       "      <td>2011-03-18 09:33:41</td>\n",
       "      <td>0.000000</td>\n",
       "      <td>0.000000</td>\n",
       "      <td>-73.990138</td>\n",
       "      <td>40.753392</td>\n",
       "      <td>1</td>\n",
       "      <td>6.923077</td>\n",
       "      <td>2011</td>\n",
       "      <td>3</td>\n",
       "      <td>18</td>\n",
       "      <td>4</td>\n",
       "      <td>9</td>\n",
       "    </tr>\n",
       "    <tr>\n",
       "      <th>10458</th>\n",
       "      <td>2013-02-23 20:58:00.000000150</td>\n",
       "      <td>2.50</td>\n",
       "      <td>2013-02-23 20:58:00</td>\n",
       "      <td>-73.979678</td>\n",
       "      <td>40.765962</td>\n",
       "      <td>0.000000</td>\n",
       "      <td>0.000000</td>\n",
       "      <td>1</td>\n",
       "      <td>0.000000</td>\n",
       "      <td>2013</td>\n",
       "      <td>2</td>\n",
       "      <td>23</td>\n",
       "      <td>5</td>\n",
       "      <td>20</td>\n",
       "    </tr>\n",
       "    <tr>\n",
       "      <th>10488</th>\n",
       "      <td>2012-03-15 00:30:07.000000100</td>\n",
       "      <td>5.30</td>\n",
       "      <td>2012-03-15 00:30:07</td>\n",
       "      <td>-73.978103</td>\n",
       "      <td>40.751798</td>\n",
       "      <td>0.000000</td>\n",
       "      <td>0.000000</td>\n",
       "      <td>1</td>\n",
       "      <td>1.794872</td>\n",
       "      <td>2012</td>\n",
       "      <td>3</td>\n",
       "      <td>15</td>\n",
       "      <td>3</td>\n",
       "      <td>0</td>\n",
       "    </tr>\n",
       "    <tr>\n",
       "      <th>10672</th>\n",
       "      <td>2015-04-30 15:34:46.000000200</td>\n",
       "      <td>18.00</td>\n",
       "      <td>2015-04-30 15:34:46</td>\n",
       "      <td>-73.979355</td>\n",
       "      <td>40.753902</td>\n",
       "      <td>0.000000</td>\n",
       "      <td>0.000000</td>\n",
       "      <td>1</td>\n",
       "      <td>9.935897</td>\n",
       "      <td>2015</td>\n",
       "      <td>4</td>\n",
       "      <td>30</td>\n",
       "      <td>3</td>\n",
       "      <td>15</td>\n",
       "    </tr>\n",
       "    <tr>\n",
       "      <th>11653</th>\n",
       "      <td>2015-03-04 16:06:28.000000100</td>\n",
       "      <td>16.00</td>\n",
       "      <td>2015-03-04 16:06:28</td>\n",
       "      <td>0.000000</td>\n",
       "      <td>0.000000</td>\n",
       "      <td>-73.985329</td>\n",
       "      <td>40.778534</td>\n",
       "      <td>1</td>\n",
       "      <td>8.653846</td>\n",
       "      <td>2015</td>\n",
       "      <td>3</td>\n",
       "      <td>4</td>\n",
       "      <td>2</td>\n",
       "      <td>16</td>\n",
       "    </tr>\n",
       "    <tr>\n",
       "      <th>12705</th>\n",
       "      <td>2012-10-31 14:37:00.000000460</td>\n",
       "      <td>2.50</td>\n",
       "      <td>2012-10-31 14:37:00</td>\n",
       "      <td>-73.929230</td>\n",
       "      <td>40.744627</td>\n",
       "      <td>0.000000</td>\n",
       "      <td>0.000000</td>\n",
       "      <td>5</td>\n",
       "      <td>0.000000</td>\n",
       "      <td>2012</td>\n",
       "      <td>10</td>\n",
       "      <td>31</td>\n",
       "      <td>2</td>\n",
       "      <td>14</td>\n",
       "    </tr>\n",
       "    <tr>\n",
       "      <th>12983</th>\n",
       "      <td>2013-03-07 21:04:00.000000131</td>\n",
       "      <td>57.33</td>\n",
       "      <td>2013-03-07 21:04:00</td>\n",
       "      <td>-73.958870</td>\n",
       "      <td>40.760012</td>\n",
       "      <td>0.000000</td>\n",
       "      <td>0.000000</td>\n",
       "      <td>1</td>\n",
       "      <td>35.147436</td>\n",
       "      <td>2013</td>\n",
       "      <td>3</td>\n",
       "      <td>7</td>\n",
       "      <td>3</td>\n",
       "      <td>21</td>\n",
       "    </tr>\n",
       "    <tr>\n",
       "      <th>13340</th>\n",
       "      <td>2014-03-31 12:34:47.000000400</td>\n",
       "      <td>18.50</td>\n",
       "      <td>2014-03-31 12:34:47</td>\n",
       "      <td>0.000000</td>\n",
       "      <td>0.000000</td>\n",
       "      <td>-73.997643</td>\n",
       "      <td>40.724432</td>\n",
       "      <td>1</td>\n",
       "      <td>10.256410</td>\n",
       "      <td>2014</td>\n",
       "      <td>3</td>\n",
       "      <td>31</td>\n",
       "      <td>0</td>\n",
       "      <td>12</td>\n",
       "    </tr>\n",
       "    <tr>\n",
       "      <th>14197</th>\n",
       "      <td>2013-04-19 16:49:00.000000540</td>\n",
       "      <td>48.00</td>\n",
       "      <td>2013-04-19 16:49:00</td>\n",
       "      <td>-73.870945</td>\n",
       "      <td>40.773700</td>\n",
       "      <td>0.000000</td>\n",
       "      <td>0.000000</td>\n",
       "      <td>1</td>\n",
       "      <td>29.166667</td>\n",
       "      <td>2013</td>\n",
       "      <td>4</td>\n",
       "      <td>19</td>\n",
       "      <td>4</td>\n",
       "      <td>16</td>\n",
       "    </tr>\n",
       "    <tr>\n",
       "      <th>14308</th>\n",
       "      <td>2011-11-11 12:03:38.000000200</td>\n",
       "      <td>8.10</td>\n",
       "      <td>2011-11-11 12:03:38</td>\n",
       "      <td>0.000000</td>\n",
       "      <td>0.000000</td>\n",
       "      <td>-73.990000</td>\n",
       "      <td>40.755400</td>\n",
       "      <td>0</td>\n",
       "      <td>3.589744</td>\n",
       "      <td>2011</td>\n",
       "      <td>11</td>\n",
       "      <td>11</td>\n",
       "      <td>4</td>\n",
       "      <td>12</td>\n",
       "    </tr>\n",
       "    <tr>\n",
       "      <th>15749</th>\n",
       "      <td>2012-05-12 17:58:00.000000118</td>\n",
       "      <td>10.90</td>\n",
       "      <td>2012-05-12 17:58:00</td>\n",
       "      <td>-73.967183</td>\n",
       "      <td>40.772403</td>\n",
       "      <td>0.000000</td>\n",
       "      <td>40.740677</td>\n",
       "      <td>1</td>\n",
       "      <td>5.384615</td>\n",
       "      <td>2012</td>\n",
       "      <td>5</td>\n",
       "      <td>12</td>\n",
       "      <td>5</td>\n",
       "      <td>17</td>\n",
       "    </tr>\n",
       "    <tr>\n",
       "      <th>15783</th>\n",
       "      <td>2014-09-28 08:18:55.000000400</td>\n",
       "      <td>26.50</td>\n",
       "      <td>2014-09-28 08:18:55</td>\n",
       "      <td>0.000000</td>\n",
       "      <td>0.000000</td>\n",
       "      <td>-73.867056</td>\n",
       "      <td>40.768823</td>\n",
       "      <td>1</td>\n",
       "      <td>15.384615</td>\n",
       "      <td>2014</td>\n",
       "      <td>9</td>\n",
       "      <td>28</td>\n",
       "      <td>6</td>\n",
       "      <td>8</td>\n",
       "    </tr>\n",
       "    <tr>\n",
       "      <th>15919</th>\n",
       "      <td>2011-10-17 08:58:54.000000500</td>\n",
       "      <td>16.50</td>\n",
       "      <td>2011-10-17 08:58:54</td>\n",
       "      <td>0.000000</td>\n",
       "      <td>0.000000</td>\n",
       "      <td>-73.999700</td>\n",
       "      <td>40.734500</td>\n",
       "      <td>0</td>\n",
       "      <td>8.974359</td>\n",
       "      <td>2011</td>\n",
       "      <td>10</td>\n",
       "      <td>17</td>\n",
       "      <td>0</td>\n",
       "      <td>8</td>\n",
       "    </tr>\n",
       "    <tr>\n",
       "      <th>16690</th>\n",
       "      <td>2013-03-16 03:22:56.000000100</td>\n",
       "      <td>12.00</td>\n",
       "      <td>2013-03-16 03:22:56</td>\n",
       "      <td>0.000000</td>\n",
       "      <td>0.000000</td>\n",
       "      <td>-73.997673</td>\n",
       "      <td>40.746340</td>\n",
       "      <td>1</td>\n",
       "      <td>6.089744</td>\n",
       "      <td>2013</td>\n",
       "      <td>3</td>\n",
       "      <td>16</td>\n",
       "      <td>5</td>\n",
       "      <td>3</td>\n",
       "    </tr>\n",
       "    <tr>\n",
       "      <th>17159</th>\n",
       "      <td>2012-05-12 22:32:00.000000122</td>\n",
       "      <td>5.70</td>\n",
       "      <td>2012-05-12 22:32:00</td>\n",
       "      <td>0.000000</td>\n",
       "      <td>0.000000</td>\n",
       "      <td>-73.984282</td>\n",
       "      <td>40.733148</td>\n",
       "      <td>1</td>\n",
       "      <td>2.051282</td>\n",
       "      <td>2012</td>\n",
       "      <td>5</td>\n",
       "      <td>12</td>\n",
       "      <td>5</td>\n",
       "      <td>22</td>\n",
       "    </tr>\n",
       "    <tr>\n",
       "      <th>17825</th>\n",
       "      <td>2012-06-05 09:11:00.000000114</td>\n",
       "      <td>16.50</td>\n",
       "      <td>2012-06-05 09:11:00</td>\n",
       "      <td>0.000000</td>\n",
       "      <td>40.744977</td>\n",
       "      <td>-73.988625</td>\n",
       "      <td>40.737310</td>\n",
       "      <td>1</td>\n",
       "      <td>8.974359</td>\n",
       "      <td>2012</td>\n",
       "      <td>6</td>\n",
       "      <td>5</td>\n",
       "      <td>1</td>\n",
       "      <td>9</td>\n",
       "    </tr>\n",
       "    <tr>\n",
       "      <th>18388</th>\n",
       "      <td>2012-04-11 01:57:21.000000100</td>\n",
       "      <td>4.10</td>\n",
       "      <td>2012-04-11 01:57:21</td>\n",
       "      <td>-73.997738</td>\n",
       "      <td>40.714043</td>\n",
       "      <td>0.000000</td>\n",
       "      <td>0.000000</td>\n",
       "      <td>1</td>\n",
       "      <td>1.025641</td>\n",
       "      <td>2012</td>\n",
       "      <td>4</td>\n",
       "      <td>11</td>\n",
       "      <td>2</td>\n",
       "      <td>1</td>\n",
       "    </tr>\n",
       "    <tr>\n",
       "      <th>18680</th>\n",
       "      <td>2010-01-30 00:05:13.000000100</td>\n",
       "      <td>6.50</td>\n",
       "      <td>2010-01-30 00:05:13</td>\n",
       "      <td>-73.994439</td>\n",
       "      <td>40.750632</td>\n",
       "      <td>-84.654241</td>\n",
       "      <td>-2.269701</td>\n",
       "      <td>1</td>\n",
       "      <td>2.564103</td>\n",
       "      <td>2010</td>\n",
       "      <td>1</td>\n",
       "      <td>30</td>\n",
       "      <td>5</td>\n",
       "      <td>0</td>\n",
       "    </tr>\n",
       "    <tr>\n",
       "      <th>...</th>\n",
       "      <td>...</td>\n",
       "      <td>...</td>\n",
       "      <td>...</td>\n",
       "      <td>...</td>\n",
       "      <td>...</td>\n",
       "      <td>...</td>\n",
       "      <td>...</td>\n",
       "      <td>...</td>\n",
       "      <td>...</td>\n",
       "      <td>...</td>\n",
       "      <td>...</td>\n",
       "      <td>...</td>\n",
       "      <td>...</td>\n",
       "      <td>...</td>\n",
       "    </tr>\n",
       "    <tr>\n",
       "      <th>985173</th>\n",
       "      <td>2011-09-15 19:08:00.000000130</td>\n",
       "      <td>17.30</td>\n",
       "      <td>2011-09-15 19:08:00</td>\n",
       "      <td>0.000000</td>\n",
       "      <td>40.725167</td>\n",
       "      <td>-73.993850</td>\n",
       "      <td>40.766935</td>\n",
       "      <td>1</td>\n",
       "      <td>9.487179</td>\n",
       "      <td>2011</td>\n",
       "      <td>9</td>\n",
       "      <td>15</td>\n",
       "      <td>3</td>\n",
       "      <td>19</td>\n",
       "    </tr>\n",
       "    <tr>\n",
       "      <th>986321</th>\n",
       "      <td>2015-01-28 14:21:08.000000100</td>\n",
       "      <td>17.00</td>\n",
       "      <td>2015-01-28 14:21:08</td>\n",
       "      <td>0.000000</td>\n",
       "      <td>0.000000</td>\n",
       "      <td>-73.963486</td>\n",
       "      <td>40.773655</td>\n",
       "      <td>1</td>\n",
       "      <td>9.294872</td>\n",
       "      <td>2015</td>\n",
       "      <td>1</td>\n",
       "      <td>28</td>\n",
       "      <td>2</td>\n",
       "      <td>14</td>\n",
       "    </tr>\n",
       "    <tr>\n",
       "      <th>986518</th>\n",
       "      <td>2015-06-28 12:37:12.000000100</td>\n",
       "      <td>5.00</td>\n",
       "      <td>2015-06-28 12:37:12</td>\n",
       "      <td>-73.978470</td>\n",
       "      <td>40.785969</td>\n",
       "      <td>0.000000</td>\n",
       "      <td>0.000000</td>\n",
       "      <td>1</td>\n",
       "      <td>1.602564</td>\n",
       "      <td>2015</td>\n",
       "      <td>6</td>\n",
       "      <td>28</td>\n",
       "      <td>6</td>\n",
       "      <td>12</td>\n",
       "    </tr>\n",
       "    <tr>\n",
       "      <th>987328</th>\n",
       "      <td>2012-02-08 12:20:00.000000152</td>\n",
       "      <td>6.10</td>\n",
       "      <td>2012-02-08 12:20:00</td>\n",
       "      <td>-73.993438</td>\n",
       "      <td>40.742250</td>\n",
       "      <td>0.000000</td>\n",
       "      <td>40.740402</td>\n",
       "      <td>1</td>\n",
       "      <td>2.307692</td>\n",
       "      <td>2012</td>\n",
       "      <td>2</td>\n",
       "      <td>8</td>\n",
       "      <td>2</td>\n",
       "      <td>12</td>\n",
       "    </tr>\n",
       "    <tr>\n",
       "      <th>987841</th>\n",
       "      <td>2015-03-16 23:21:00.000000500</td>\n",
       "      <td>6.00</td>\n",
       "      <td>2015-03-16 23:21:00</td>\n",
       "      <td>-73.987251</td>\n",
       "      <td>40.750492</td>\n",
       "      <td>0.000000</td>\n",
       "      <td>0.000000</td>\n",
       "      <td>2</td>\n",
       "      <td>2.243590</td>\n",
       "      <td>2015</td>\n",
       "      <td>3</td>\n",
       "      <td>16</td>\n",
       "      <td>0</td>\n",
       "      <td>23</td>\n",
       "    </tr>\n",
       "    <tr>\n",
       "      <th>987982</th>\n",
       "      <td>2012-07-11 05:57:00.000000390</td>\n",
       "      <td>9.30</td>\n",
       "      <td>2012-07-11 05:57:00</td>\n",
       "      <td>-73.992030</td>\n",
       "      <td>40.721825</td>\n",
       "      <td>-0.950000</td>\n",
       "      <td>40.714140</td>\n",
       "      <td>1</td>\n",
       "      <td>4.358974</td>\n",
       "      <td>2012</td>\n",
       "      <td>7</td>\n",
       "      <td>11</td>\n",
       "      <td>2</td>\n",
       "      <td>5</td>\n",
       "    </tr>\n",
       "    <tr>\n",
       "      <th>988080</th>\n",
       "      <td>2010-05-25 01:12:02.000000100</td>\n",
       "      <td>12.50</td>\n",
       "      <td>2010-05-25 01:12:02</td>\n",
       "      <td>0.000000</td>\n",
       "      <td>0.000000</td>\n",
       "      <td>-73.916848</td>\n",
       "      <td>40.747673</td>\n",
       "      <td>1</td>\n",
       "      <td>6.410256</td>\n",
       "      <td>2010</td>\n",
       "      <td>5</td>\n",
       "      <td>25</td>\n",
       "      <td>1</td>\n",
       "      <td>1</td>\n",
       "    </tr>\n",
       "    <tr>\n",
       "      <th>988344</th>\n",
       "      <td>2012-04-14 16:45:00.000000720</td>\n",
       "      <td>16.50</td>\n",
       "      <td>2012-04-14 16:45:00</td>\n",
       "      <td>0.000000</td>\n",
       "      <td>40.723167</td>\n",
       "      <td>-73.974387</td>\n",
       "      <td>40.756960</td>\n",
       "      <td>1</td>\n",
       "      <td>8.974359</td>\n",
       "      <td>2012</td>\n",
       "      <td>4</td>\n",
       "      <td>14</td>\n",
       "      <td>5</td>\n",
       "      <td>16</td>\n",
       "    </tr>\n",
       "    <tr>\n",
       "      <th>988747</th>\n",
       "      <td>2013-08-12 16:33:28.000000200</td>\n",
       "      <td>34.50</td>\n",
       "      <td>2013-08-12 16:33:28</td>\n",
       "      <td>0.000000</td>\n",
       "      <td>0.000000</td>\n",
       "      <td>-73.873182</td>\n",
       "      <td>40.774372</td>\n",
       "      <td>1</td>\n",
       "      <td>20.512821</td>\n",
       "      <td>2013</td>\n",
       "      <td>8</td>\n",
       "      <td>12</td>\n",
       "      <td>0</td>\n",
       "      <td>16</td>\n",
       "    </tr>\n",
       "    <tr>\n",
       "      <th>989281</th>\n",
       "      <td>2014-09-14 01:53:48.000000100</td>\n",
       "      <td>13.50</td>\n",
       "      <td>2014-09-14 01:53:48</td>\n",
       "      <td>0.000000</td>\n",
       "      <td>0.000000</td>\n",
       "      <td>-73.991887</td>\n",
       "      <td>40.764428</td>\n",
       "      <td>1</td>\n",
       "      <td>7.051282</td>\n",
       "      <td>2014</td>\n",
       "      <td>9</td>\n",
       "      <td>14</td>\n",
       "      <td>6</td>\n",
       "      <td>1</td>\n",
       "    </tr>\n",
       "    <tr>\n",
       "      <th>990937</th>\n",
       "      <td>2012-04-19 01:28:00.000000300</td>\n",
       "      <td>10.50</td>\n",
       "      <td>2012-04-19 01:28:00</td>\n",
       "      <td>-0.150000</td>\n",
       "      <td>40.726905</td>\n",
       "      <td>-73.986220</td>\n",
       "      <td>40.763217</td>\n",
       "      <td>1</td>\n",
       "      <td>5.128205</td>\n",
       "      <td>2012</td>\n",
       "      <td>4</td>\n",
       "      <td>19</td>\n",
       "      <td>3</td>\n",
       "      <td>1</td>\n",
       "    </tr>\n",
       "    <tr>\n",
       "      <th>992056</th>\n",
       "      <td>2012-07-21 03:55:00.000000610</td>\n",
       "      <td>55.50</td>\n",
       "      <td>2012-07-21 03:55:00</td>\n",
       "      <td>-74.024557</td>\n",
       "      <td>40.749610</td>\n",
       "      <td>0.000000</td>\n",
       "      <td>0.000000</td>\n",
       "      <td>2</td>\n",
       "      <td>33.974359</td>\n",
       "      <td>2012</td>\n",
       "      <td>7</td>\n",
       "      <td>21</td>\n",
       "      <td>5</td>\n",
       "      <td>3</td>\n",
       "    </tr>\n",
       "    <tr>\n",
       "      <th>992490</th>\n",
       "      <td>2015-05-08 06:38:27.000000600</td>\n",
       "      <td>52.00</td>\n",
       "      <td>2015-05-08 06:38:27</td>\n",
       "      <td>0.000000</td>\n",
       "      <td>0.000000</td>\n",
       "      <td>-73.788872</td>\n",
       "      <td>40.641655</td>\n",
       "      <td>1</td>\n",
       "      <td>31.730769</td>\n",
       "      <td>2015</td>\n",
       "      <td>5</td>\n",
       "      <td>8</td>\n",
       "      <td>4</td>\n",
       "      <td>6</td>\n",
       "    </tr>\n",
       "    <tr>\n",
       "      <th>992730</th>\n",
       "      <td>2012-04-26 18:50:00.000000108</td>\n",
       "      <td>8.90</td>\n",
       "      <td>2012-04-26 18:50:00</td>\n",
       "      <td>-73.971152</td>\n",
       "      <td>40.751247</td>\n",
       "      <td>-8.433332</td>\n",
       "      <td>40.730220</td>\n",
       "      <td>5</td>\n",
       "      <td>4.102564</td>\n",
       "      <td>2012</td>\n",
       "      <td>4</td>\n",
       "      <td>26</td>\n",
       "      <td>3</td>\n",
       "      <td>18</td>\n",
       "    </tr>\n",
       "    <tr>\n",
       "      <th>992846</th>\n",
       "      <td>2012-07-10 09:20:00.000000131</td>\n",
       "      <td>8.90</td>\n",
       "      <td>2012-07-10 09:20:00</td>\n",
       "      <td>-73.936667</td>\n",
       "      <td>40.759777</td>\n",
       "      <td>0.000000</td>\n",
       "      <td>0.000000</td>\n",
       "      <td>1</td>\n",
       "      <td>4.102564</td>\n",
       "      <td>2012</td>\n",
       "      <td>7</td>\n",
       "      <td>10</td>\n",
       "      <td>1</td>\n",
       "      <td>9</td>\n",
       "    </tr>\n",
       "    <tr>\n",
       "      <th>993372</th>\n",
       "      <td>2014-03-26 08:08:00.000000105</td>\n",
       "      <td>9.50</td>\n",
       "      <td>2014-03-26 08:08:00</td>\n",
       "      <td>-73.952053</td>\n",
       "      <td>40.777452</td>\n",
       "      <td>0.000000</td>\n",
       "      <td>0.000000</td>\n",
       "      <td>1</td>\n",
       "      <td>4.487179</td>\n",
       "      <td>2014</td>\n",
       "      <td>3</td>\n",
       "      <td>26</td>\n",
       "      <td>2</td>\n",
       "      <td>8</td>\n",
       "    </tr>\n",
       "    <tr>\n",
       "      <th>993672</th>\n",
       "      <td>2014-04-22 12:47:34.000000300</td>\n",
       "      <td>5.50</td>\n",
       "      <td>2014-04-22 12:47:34</td>\n",
       "      <td>-73.992053</td>\n",
       "      <td>40.666927</td>\n",
       "      <td>0.000000</td>\n",
       "      <td>0.000000</td>\n",
       "      <td>1</td>\n",
       "      <td>1.923077</td>\n",
       "      <td>2014</td>\n",
       "      <td>4</td>\n",
       "      <td>22</td>\n",
       "      <td>1</td>\n",
       "      <td>12</td>\n",
       "    </tr>\n",
       "    <tr>\n",
       "      <th>994162</th>\n",
       "      <td>2014-03-29 14:49:00.000000146</td>\n",
       "      <td>11.00</td>\n",
       "      <td>2014-03-29 14:49:00</td>\n",
       "      <td>-73.968420</td>\n",
       "      <td>40.750912</td>\n",
       "      <td>0.000000</td>\n",
       "      <td>0.000000</td>\n",
       "      <td>1</td>\n",
       "      <td>5.448718</td>\n",
       "      <td>2014</td>\n",
       "      <td>3</td>\n",
       "      <td>29</td>\n",
       "      <td>5</td>\n",
       "      <td>14</td>\n",
       "    </tr>\n",
       "    <tr>\n",
       "      <th>994316</th>\n",
       "      <td>2011-01-10 11:58:00.000000156</td>\n",
       "      <td>6.50</td>\n",
       "      <td>2011-01-10 11:58:00</td>\n",
       "      <td>-1.311260</td>\n",
       "      <td>40.778972</td>\n",
       "      <td>-73.983687</td>\n",
       "      <td>40.761640</td>\n",
       "      <td>1</td>\n",
       "      <td>2.564103</td>\n",
       "      <td>2011</td>\n",
       "      <td>1</td>\n",
       "      <td>10</td>\n",
       "      <td>0</td>\n",
       "      <td>11</td>\n",
       "    </tr>\n",
       "    <tr>\n",
       "      <th>994608</th>\n",
       "      <td>2014-07-08 23:07:00.000000219</td>\n",
       "      <td>31.33</td>\n",
       "      <td>2014-07-08 23:07:00</td>\n",
       "      <td>-73.914885</td>\n",
       "      <td>40.707472</td>\n",
       "      <td>0.000000</td>\n",
       "      <td>0.000000</td>\n",
       "      <td>6</td>\n",
       "      <td>18.480769</td>\n",
       "      <td>2014</td>\n",
       "      <td>7</td>\n",
       "      <td>8</td>\n",
       "      <td>1</td>\n",
       "      <td>23</td>\n",
       "    </tr>\n",
       "    <tr>\n",
       "      <th>994663</th>\n",
       "      <td>2014-08-19 05:55:09.000000100</td>\n",
       "      <td>9.00</td>\n",
       "      <td>2014-08-19 05:55:09</td>\n",
       "      <td>0.000000</td>\n",
       "      <td>0.000000</td>\n",
       "      <td>-73.974026</td>\n",
       "      <td>40.758743</td>\n",
       "      <td>1</td>\n",
       "      <td>4.166667</td>\n",
       "      <td>2014</td>\n",
       "      <td>8</td>\n",
       "      <td>19</td>\n",
       "      <td>1</td>\n",
       "      <td>5</td>\n",
       "    </tr>\n",
       "    <tr>\n",
       "      <th>994980</th>\n",
       "      <td>2009-08-19 17:43:00.000000800</td>\n",
       "      <td>12.90</td>\n",
       "      <td>2009-08-19 17:43:00</td>\n",
       "      <td>0.000000</td>\n",
       "      <td>0.000000</td>\n",
       "      <td>-73.930278</td>\n",
       "      <td>40.746810</td>\n",
       "      <td>1</td>\n",
       "      <td>6.666667</td>\n",
       "      <td>2009</td>\n",
       "      <td>8</td>\n",
       "      <td>19</td>\n",
       "      <td>2</td>\n",
       "      <td>17</td>\n",
       "    </tr>\n",
       "    <tr>\n",
       "      <th>995910</th>\n",
       "      <td>2014-08-02 01:23:49.000000300</td>\n",
       "      <td>15.50</td>\n",
       "      <td>2014-08-02 01:23:49</td>\n",
       "      <td>0.000000</td>\n",
       "      <td>0.000000</td>\n",
       "      <td>-73.946667</td>\n",
       "      <td>40.826452</td>\n",
       "      <td>1</td>\n",
       "      <td>8.333333</td>\n",
       "      <td>2014</td>\n",
       "      <td>8</td>\n",
       "      <td>2</td>\n",
       "      <td>5</td>\n",
       "      <td>1</td>\n",
       "    </tr>\n",
       "    <tr>\n",
       "      <th>996613</th>\n",
       "      <td>2014-01-15 10:32:49.000000900</td>\n",
       "      <td>2.50</td>\n",
       "      <td>2014-01-15 10:32:49</td>\n",
       "      <td>0.000000</td>\n",
       "      <td>0.000000</td>\n",
       "      <td>-73.965077</td>\n",
       "      <td>40.771527</td>\n",
       "      <td>1</td>\n",
       "      <td>0.000000</td>\n",
       "      <td>2014</td>\n",
       "      <td>1</td>\n",
       "      <td>15</td>\n",
       "      <td>2</td>\n",
       "      <td>10</td>\n",
       "    </tr>\n",
       "    <tr>\n",
       "      <th>997107</th>\n",
       "      <td>2012-07-27 08:53:00.000000226</td>\n",
       "      <td>6.10</td>\n",
       "      <td>2012-07-27 08:53:00</td>\n",
       "      <td>0.000000</td>\n",
       "      <td>40.767853</td>\n",
       "      <td>-73.953517</td>\n",
       "      <td>40.767152</td>\n",
       "      <td>4</td>\n",
       "      <td>2.307692</td>\n",
       "      <td>2012</td>\n",
       "      <td>7</td>\n",
       "      <td>27</td>\n",
       "      <td>4</td>\n",
       "      <td>8</td>\n",
       "    </tr>\n",
       "    <tr>\n",
       "      <th>997656</th>\n",
       "      <td>2012-01-21 01:43:00.000000134</td>\n",
       "      <td>26.50</td>\n",
       "      <td>2012-01-21 01:43:00</td>\n",
       "      <td>0.000000</td>\n",
       "      <td>0.000000</td>\n",
       "      <td>-73.954157</td>\n",
       "      <td>40.741552</td>\n",
       "      <td>1</td>\n",
       "      <td>15.384615</td>\n",
       "      <td>2012</td>\n",
       "      <td>1</td>\n",
       "      <td>21</td>\n",
       "      <td>5</td>\n",
       "      <td>1</td>\n",
       "    </tr>\n",
       "    <tr>\n",
       "      <th>997786</th>\n",
       "      <td>2012-02-27 21:12:17.000000300</td>\n",
       "      <td>13.70</td>\n",
       "      <td>2012-02-27 21:12:17</td>\n",
       "      <td>-73.991041</td>\n",
       "      <td>40.733201</td>\n",
       "      <td>0.000000</td>\n",
       "      <td>0.000000</td>\n",
       "      <td>1</td>\n",
       "      <td>7.179487</td>\n",
       "      <td>2012</td>\n",
       "      <td>2</td>\n",
       "      <td>27</td>\n",
       "      <td>0</td>\n",
       "      <td>21</td>\n",
       "    </tr>\n",
       "    <tr>\n",
       "      <th>998269</th>\n",
       "      <td>2012-10-19 16:56:00.000000300</td>\n",
       "      <td>32.30</td>\n",
       "      <td>2012-10-19 16:56:00</td>\n",
       "      <td>0.000000</td>\n",
       "      <td>40.750597</td>\n",
       "      <td>-73.863035</td>\n",
       "      <td>40.767178</td>\n",
       "      <td>1</td>\n",
       "      <td>19.102564</td>\n",
       "      <td>2012</td>\n",
       "      <td>10</td>\n",
       "      <td>19</td>\n",
       "      <td>4</td>\n",
       "      <td>16</td>\n",
       "    </tr>\n",
       "    <tr>\n",
       "      <th>998717</th>\n",
       "      <td>2014-07-24 21:48:00.000000155</td>\n",
       "      <td>6.50</td>\n",
       "      <td>2014-07-24 21:48:00</td>\n",
       "      <td>0.000000</td>\n",
       "      <td>0.000000</td>\n",
       "      <td>-73.991420</td>\n",
       "      <td>40.750400</td>\n",
       "      <td>1</td>\n",
       "      <td>2.564103</td>\n",
       "      <td>2014</td>\n",
       "      <td>7</td>\n",
       "      <td>24</td>\n",
       "      <td>3</td>\n",
       "      <td>21</td>\n",
       "    </tr>\n",
       "    <tr>\n",
       "      <th>999338</th>\n",
       "      <td>2014-10-20 16:56:24.000000200</td>\n",
       "      <td>4.00</td>\n",
       "      <td>2014-10-20 16:56:24</td>\n",
       "      <td>0.000000</td>\n",
       "      <td>0.000000</td>\n",
       "      <td>-73.992518</td>\n",
       "      <td>40.741942</td>\n",
       "      <td>1</td>\n",
       "      <td>0.961538</td>\n",
       "      <td>2014</td>\n",
       "      <td>10</td>\n",
       "      <td>20</td>\n",
       "      <td>0</td>\n",
       "      <td>16</td>\n",
       "    </tr>\n",
       "  </tbody>\n",
       "</table>\n",
       "<p>1929 rows × 14 columns</p>\n",
       "</div>"
      ],
      "text/plain": [
       "                                 key  fare_amount     pickup_datetime  \\\n",
       "472    2009-02-22 22:48:00.000000130         2.50 2009-02-22 22:48:00   \n",
       "1260   2011-03-10 20:25:00.000000490         5.70 2011-03-10 20:25:00   \n",
       "2280   2011-08-29 08:24:00.000000107         8.90 2011-08-29 08:24:00   \n",
       "2397   2012-06-24 17:11:10.000000100        45.00 2012-06-24 17:11:10   \n",
       "4278   2015-04-07 23:33:02.000000500         7.00 2015-04-07 23:33:02   \n",
       "4597   2010-03-30 07:12:00.000000158         6.90 2010-03-30 07:12:00   \n",
       "5864   2012-03-04 01:35:00.000000173         8.50 2012-03-04 01:35:00   \n",
       "6188   2014-07-28 15:04:00.000000280        15.50 2014-07-28 15:04:00   \n",
       "6302   2015-02-27 16:18:58.000000400        16.50 2015-02-27 16:18:58   \n",
       "7014   2011-06-18 04:03:00.000000830         4.50 2011-06-18 04:03:00   \n",
       "8647   2014-03-27 18:01:00.000000710        21.50 2014-03-27 18:01:00   \n",
       "9147   2014-07-14 21:37:29.000000200         8.50 2014-07-14 21:37:29   \n",
       "10215  2011-03-18 09:33:41.000000300        13.30 2011-03-18 09:33:41   \n",
       "10458  2013-02-23 20:58:00.000000150         2.50 2013-02-23 20:58:00   \n",
       "10488  2012-03-15 00:30:07.000000100         5.30 2012-03-15 00:30:07   \n",
       "10672  2015-04-30 15:34:46.000000200        18.00 2015-04-30 15:34:46   \n",
       "11653  2015-03-04 16:06:28.000000100        16.00 2015-03-04 16:06:28   \n",
       "12705  2012-10-31 14:37:00.000000460         2.50 2012-10-31 14:37:00   \n",
       "12983  2013-03-07 21:04:00.000000131        57.33 2013-03-07 21:04:00   \n",
       "13340  2014-03-31 12:34:47.000000400        18.50 2014-03-31 12:34:47   \n",
       "14197  2013-04-19 16:49:00.000000540        48.00 2013-04-19 16:49:00   \n",
       "14308  2011-11-11 12:03:38.000000200         8.10 2011-11-11 12:03:38   \n",
       "15749  2012-05-12 17:58:00.000000118        10.90 2012-05-12 17:58:00   \n",
       "15783  2014-09-28 08:18:55.000000400        26.50 2014-09-28 08:18:55   \n",
       "15919  2011-10-17 08:58:54.000000500        16.50 2011-10-17 08:58:54   \n",
       "16690  2013-03-16 03:22:56.000000100        12.00 2013-03-16 03:22:56   \n",
       "17159  2012-05-12 22:32:00.000000122         5.70 2012-05-12 22:32:00   \n",
       "17825  2012-06-05 09:11:00.000000114        16.50 2012-06-05 09:11:00   \n",
       "18388  2012-04-11 01:57:21.000000100         4.10 2012-04-11 01:57:21   \n",
       "18680  2010-01-30 00:05:13.000000100         6.50 2010-01-30 00:05:13   \n",
       "...                              ...          ...                 ...   \n",
       "985173 2011-09-15 19:08:00.000000130        17.30 2011-09-15 19:08:00   \n",
       "986321 2015-01-28 14:21:08.000000100        17.00 2015-01-28 14:21:08   \n",
       "986518 2015-06-28 12:37:12.000000100         5.00 2015-06-28 12:37:12   \n",
       "987328 2012-02-08 12:20:00.000000152         6.10 2012-02-08 12:20:00   \n",
       "987841 2015-03-16 23:21:00.000000500         6.00 2015-03-16 23:21:00   \n",
       "987982 2012-07-11 05:57:00.000000390         9.30 2012-07-11 05:57:00   \n",
       "988080 2010-05-25 01:12:02.000000100        12.50 2010-05-25 01:12:02   \n",
       "988344 2012-04-14 16:45:00.000000720        16.50 2012-04-14 16:45:00   \n",
       "988747 2013-08-12 16:33:28.000000200        34.50 2013-08-12 16:33:28   \n",
       "989281 2014-09-14 01:53:48.000000100        13.50 2014-09-14 01:53:48   \n",
       "990937 2012-04-19 01:28:00.000000300        10.50 2012-04-19 01:28:00   \n",
       "992056 2012-07-21 03:55:00.000000610        55.50 2012-07-21 03:55:00   \n",
       "992490 2015-05-08 06:38:27.000000600        52.00 2015-05-08 06:38:27   \n",
       "992730 2012-04-26 18:50:00.000000108         8.90 2012-04-26 18:50:00   \n",
       "992846 2012-07-10 09:20:00.000000131         8.90 2012-07-10 09:20:00   \n",
       "993372 2014-03-26 08:08:00.000000105         9.50 2014-03-26 08:08:00   \n",
       "993672 2014-04-22 12:47:34.000000300         5.50 2014-04-22 12:47:34   \n",
       "994162 2014-03-29 14:49:00.000000146        11.00 2014-03-29 14:49:00   \n",
       "994316 2011-01-10 11:58:00.000000156         6.50 2011-01-10 11:58:00   \n",
       "994608 2014-07-08 23:07:00.000000219        31.33 2014-07-08 23:07:00   \n",
       "994663 2014-08-19 05:55:09.000000100         9.00 2014-08-19 05:55:09   \n",
       "994980 2009-08-19 17:43:00.000000800        12.90 2009-08-19 17:43:00   \n",
       "995910 2014-08-02 01:23:49.000000300        15.50 2014-08-02 01:23:49   \n",
       "996613 2014-01-15 10:32:49.000000900         2.50 2014-01-15 10:32:49   \n",
       "997107 2012-07-27 08:53:00.000000226         6.10 2012-07-27 08:53:00   \n",
       "997656 2012-01-21 01:43:00.000000134        26.50 2012-01-21 01:43:00   \n",
       "997786 2012-02-27 21:12:17.000000300        13.70 2012-02-27 21:12:17   \n",
       "998269 2012-10-19 16:56:00.000000300        32.30 2012-10-19 16:56:00   \n",
       "998717 2014-07-24 21:48:00.000000155         6.50 2014-07-24 21:48:00   \n",
       "999338 2014-10-20 16:56:24.000000200         4.00 2014-10-20 16:56:24   \n",
       "\n",
       "        pickup_longitude  pickup_latitude  dropoff_longitude  \\\n",
       "472             0.000000         0.000000         -74.005433   \n",
       "1260          -73.973907        40.754743           0.000000   \n",
       "2280          -73.936667        40.757815           0.000000   \n",
       "2397            0.000000         0.000000         -74.010230   \n",
       "4278          -73.972702        40.757423           0.000000   \n",
       "4597            0.000000         0.000000         -73.989693   \n",
       "5864          -73.995030        40.744945          -7.986640   \n",
       "6188            0.000000         0.000000         -73.952980   \n",
       "6302            0.000000         0.000000         -73.936600   \n",
       "7014          -73.988980        40.721697         -74.001073   \n",
       "8647          -74.001808        40.750782           0.000000   \n",
       "9147            0.000000         0.000000         -74.002037   \n",
       "10215           0.000000         0.000000         -73.990138   \n",
       "10458         -73.979678        40.765962           0.000000   \n",
       "10488         -73.978103        40.751798           0.000000   \n",
       "10672         -73.979355        40.753902           0.000000   \n",
       "11653           0.000000         0.000000         -73.985329   \n",
       "12705         -73.929230        40.744627           0.000000   \n",
       "12983         -73.958870        40.760012           0.000000   \n",
       "13340           0.000000         0.000000         -73.997643   \n",
       "14197         -73.870945        40.773700           0.000000   \n",
       "14308           0.000000         0.000000         -73.990000   \n",
       "15749         -73.967183        40.772403           0.000000   \n",
       "15783           0.000000         0.000000         -73.867056   \n",
       "15919           0.000000         0.000000         -73.999700   \n",
       "16690           0.000000         0.000000         -73.997673   \n",
       "17159           0.000000         0.000000         -73.984282   \n",
       "17825           0.000000        40.744977         -73.988625   \n",
       "18388         -73.997738        40.714043           0.000000   \n",
       "18680         -73.994439        40.750632         -84.654241   \n",
       "...                  ...              ...                ...   \n",
       "985173          0.000000        40.725167         -73.993850   \n",
       "986321          0.000000         0.000000         -73.963486   \n",
       "986518        -73.978470        40.785969           0.000000   \n",
       "987328        -73.993438        40.742250           0.000000   \n",
       "987841        -73.987251        40.750492           0.000000   \n",
       "987982        -73.992030        40.721825          -0.950000   \n",
       "988080          0.000000         0.000000         -73.916848   \n",
       "988344          0.000000        40.723167         -73.974387   \n",
       "988747          0.000000         0.000000         -73.873182   \n",
       "989281          0.000000         0.000000         -73.991887   \n",
       "990937         -0.150000        40.726905         -73.986220   \n",
       "992056        -74.024557        40.749610           0.000000   \n",
       "992490          0.000000         0.000000         -73.788872   \n",
       "992730        -73.971152        40.751247          -8.433332   \n",
       "992846        -73.936667        40.759777           0.000000   \n",
       "993372        -73.952053        40.777452           0.000000   \n",
       "993672        -73.992053        40.666927           0.000000   \n",
       "994162        -73.968420        40.750912           0.000000   \n",
       "994316         -1.311260        40.778972         -73.983687   \n",
       "994608        -73.914885        40.707472           0.000000   \n",
       "994663          0.000000         0.000000         -73.974026   \n",
       "994980          0.000000         0.000000         -73.930278   \n",
       "995910          0.000000         0.000000         -73.946667   \n",
       "996613          0.000000         0.000000         -73.965077   \n",
       "997107          0.000000        40.767853         -73.953517   \n",
       "997656          0.000000         0.000000         -73.954157   \n",
       "997786        -73.991041        40.733201           0.000000   \n",
       "998269          0.000000        40.750597         -73.863035   \n",
       "998717          0.000000         0.000000         -73.991420   \n",
       "999338          0.000000         0.000000         -73.992518   \n",
       "\n",
       "        dropoff_latitude  passenger_count  harvesine_distance  year  month  \\\n",
       "472            40.726685                2            0.000000  2009      2   \n",
       "1260            0.000000                2            2.051282  2011      3   \n",
       "2280           40.757815                1            4.102564  2011      8   \n",
       "2397           40.714553                2           27.243590  2012      6   \n",
       "4278            0.000000                1            2.884615  2015      4   \n",
       "4597           40.754280                1            2.820513  2010      3   \n",
       "5864           40.729937                1            3.846154  2012      3   \n",
       "6188           40.786670                5            8.333333  2014      7   \n",
       "6302           40.796543                1            8.974359  2015      2   \n",
       "7014            0.728087                3            1.282051  2011      6   \n",
       "8647            0.000000                1           12.179487  2014      3   \n",
       "9147           40.752035                1            3.846154  2014      7   \n",
       "10215          40.753392                1            6.923077  2011      3   \n",
       "10458           0.000000                1            0.000000  2013      2   \n",
       "10488           0.000000                1            1.794872  2012      3   \n",
       "10672           0.000000                1            9.935897  2015      4   \n",
       "11653          40.778534                1            8.653846  2015      3   \n",
       "12705           0.000000                5            0.000000  2012     10   \n",
       "12983           0.000000                1           35.147436  2013      3   \n",
       "13340          40.724432                1           10.256410  2014      3   \n",
       "14197           0.000000                1           29.166667  2013      4   \n",
       "14308          40.755400                0            3.589744  2011     11   \n",
       "15749          40.740677                1            5.384615  2012      5   \n",
       "15783          40.768823                1           15.384615  2014      9   \n",
       "15919          40.734500                0            8.974359  2011     10   \n",
       "16690          40.746340                1            6.089744  2013      3   \n",
       "17159          40.733148                1            2.051282  2012      5   \n",
       "17825          40.737310                1            8.974359  2012      6   \n",
       "18388           0.000000                1            1.025641  2012      4   \n",
       "18680          -2.269701                1            2.564103  2010      1   \n",
       "...                  ...              ...                 ...   ...    ...   \n",
       "985173         40.766935                1            9.487179  2011      9   \n",
       "986321         40.773655                1            9.294872  2015      1   \n",
       "986518          0.000000                1            1.602564  2015      6   \n",
       "987328         40.740402                1            2.307692  2012      2   \n",
       "987841          0.000000                2            2.243590  2015      3   \n",
       "987982         40.714140                1            4.358974  2012      7   \n",
       "988080         40.747673                1            6.410256  2010      5   \n",
       "988344         40.756960                1            8.974359  2012      4   \n",
       "988747         40.774372                1           20.512821  2013      8   \n",
       "989281         40.764428                1            7.051282  2014      9   \n",
       "990937         40.763217                1            5.128205  2012      4   \n",
       "992056          0.000000                2           33.974359  2012      7   \n",
       "992490         40.641655                1           31.730769  2015      5   \n",
       "992730         40.730220                5            4.102564  2012      4   \n",
       "992846          0.000000                1            4.102564  2012      7   \n",
       "993372          0.000000                1            4.487179  2014      3   \n",
       "993672          0.000000                1            1.923077  2014      4   \n",
       "994162          0.000000                1            5.448718  2014      3   \n",
       "994316         40.761640                1            2.564103  2011      1   \n",
       "994608          0.000000                6           18.480769  2014      7   \n",
       "994663         40.758743                1            4.166667  2014      8   \n",
       "994980         40.746810                1            6.666667  2009      8   \n",
       "995910         40.826452                1            8.333333  2014      8   \n",
       "996613         40.771527                1            0.000000  2014      1   \n",
       "997107         40.767152                4            2.307692  2012      7   \n",
       "997656         40.741552                1           15.384615  2012      1   \n",
       "997786          0.000000                1            7.179487  2012      2   \n",
       "998269         40.767178                1           19.102564  2012     10   \n",
       "998717         40.750400                1            2.564103  2014      7   \n",
       "999338         40.741942                1            0.961538  2014     10   \n",
       "\n",
       "        date  day_of_month  hour  \n",
       "472       22             6    22  \n",
       "1260      10             3    20  \n",
       "2280      29             0     8  \n",
       "2397      24             6    17  \n",
       "4278       7             1    23  \n",
       "4597      30             1     7  \n",
       "5864       4             6     1  \n",
       "6188      28             0    15  \n",
       "6302      27             4    16  \n",
       "7014      18             5     4  \n",
       "8647      27             3    18  \n",
       "9147      14             0    21  \n",
       "10215     18             4     9  \n",
       "10458     23             5    20  \n",
       "10488     15             3     0  \n",
       "10672     30             3    15  \n",
       "11653      4             2    16  \n",
       "12705     31             2    14  \n",
       "12983      7             3    21  \n",
       "13340     31             0    12  \n",
       "14197     19             4    16  \n",
       "14308     11             4    12  \n",
       "15749     12             5    17  \n",
       "15783     28             6     8  \n",
       "15919     17             0     8  \n",
       "16690     16             5     3  \n",
       "17159     12             5    22  \n",
       "17825      5             1     9  \n",
       "18388     11             2     1  \n",
       "18680     30             5     0  \n",
       "...      ...           ...   ...  \n",
       "985173    15             3    19  \n",
       "986321    28             2    14  \n",
       "986518    28             6    12  \n",
       "987328     8             2    12  \n",
       "987841    16             0    23  \n",
       "987982    11             2     5  \n",
       "988080    25             1     1  \n",
       "988344    14             5    16  \n",
       "988747    12             0    16  \n",
       "989281    14             6     1  \n",
       "990937    19             3     1  \n",
       "992056    21             5     3  \n",
       "992490     8             4     6  \n",
       "992730    26             3    18  \n",
       "992846    10             1     9  \n",
       "993372    26             2     8  \n",
       "993672    22             1    12  \n",
       "994162    29             5    14  \n",
       "994316    10             0    11  \n",
       "994608     8             1    23  \n",
       "994663    19             1     5  \n",
       "994980    19             2    17  \n",
       "995910     2             5     1  \n",
       "996613    15             2    10  \n",
       "997107    27             4     8  \n",
       "997656    21             5     1  \n",
       "997786    27             0    21  \n",
       "998269    19             4    16  \n",
       "998717    24             3    21  \n",
       "999338    20             0    16  \n",
       "\n",
       "[1929 rows x 14 columns]"
      ]
     },
     "execution_count": 69,
     "metadata": {},
     "output_type": "execute_result"
    }
   ],
   "source": [
    "high_distance"
   ]
  },
  {
   "cell_type": "code",
   "execution_count": 70,
   "metadata": {},
   "outputs": [
    {
     "data": {
      "text/plain": [
       "key                   186\n",
       "fare_amount           186\n",
       "pickup_datetime       186\n",
       "pickup_longitude      186\n",
       "pickup_latitude       186\n",
       "dropoff_longitude     186\n",
       "dropoff_latitude      186\n",
       "passenger_count       186\n",
       "harvesine_distance    186\n",
       "year                  186\n",
       "month                 186\n",
       "date                  186\n",
       "day_of_month          186\n",
       "hour                  186\n",
       "dtype: int64"
      ]
     },
     "execution_count": 70,
     "metadata": {},
     "output_type": "execute_result"
    }
   ],
   "source": [
    "high_distance[high_distance['harvesine_distance'] == 0].count()"
   ]
  },
  {
   "cell_type": "code",
   "execution_count": 71,
   "metadata": {},
   "outputs": [
    {
     "data": {
      "text/html": [
       "<div>\n",
       "<style scoped>\n",
       "    .dataframe tbody tr th:only-of-type {\n",
       "        vertical-align: middle;\n",
       "    }\n",
       "\n",
       "    .dataframe tbody tr th {\n",
       "        vertical-align: top;\n",
       "    }\n",
       "\n",
       "    .dataframe thead th {\n",
       "        text-align: right;\n",
       "    }\n",
       "</style>\n",
       "<table border=\"1\" class=\"dataframe\">\n",
       "  <thead>\n",
       "    <tr style=\"text-align: right;\">\n",
       "      <th></th>\n",
       "      <th>key</th>\n",
       "      <th>fare_amount</th>\n",
       "      <th>pickup_datetime</th>\n",
       "      <th>pickup_longitude</th>\n",
       "      <th>pickup_latitude</th>\n",
       "      <th>dropoff_longitude</th>\n",
       "      <th>dropoff_latitude</th>\n",
       "      <th>passenger_count</th>\n",
       "      <th>harvesine_distance</th>\n",
       "      <th>year</th>\n",
       "      <th>month</th>\n",
       "      <th>date</th>\n",
       "      <th>day_of_month</th>\n",
       "      <th>hour</th>\n",
       "    </tr>\n",
       "  </thead>\n",
       "  <tbody>\n",
       "    <tr>\n",
       "      <th>472</th>\n",
       "      <td>2009-02-22 22:48:00.000000130</td>\n",
       "      <td>2.5</td>\n",
       "      <td>2009-02-22 22:48:00</td>\n",
       "      <td>0.000000</td>\n",
       "      <td>0.000000</td>\n",
       "      <td>-74.005433</td>\n",
       "      <td>40.726685</td>\n",
       "      <td>2</td>\n",
       "      <td>0.000000</td>\n",
       "      <td>2009</td>\n",
       "      <td>2</td>\n",
       "      <td>22</td>\n",
       "      <td>6</td>\n",
       "      <td>22</td>\n",
       "    </tr>\n",
       "    <tr>\n",
       "      <th>1260</th>\n",
       "      <td>2011-03-10 20:25:00.000000490</td>\n",
       "      <td>5.7</td>\n",
       "      <td>2011-03-10 20:25:00</td>\n",
       "      <td>-73.973907</td>\n",
       "      <td>40.754743</td>\n",
       "      <td>0.000000</td>\n",
       "      <td>0.000000</td>\n",
       "      <td>2</td>\n",
       "      <td>2.051282</td>\n",
       "      <td>2011</td>\n",
       "      <td>3</td>\n",
       "      <td>10</td>\n",
       "      <td>3</td>\n",
       "      <td>20</td>\n",
       "    </tr>\n",
       "    <tr>\n",
       "      <th>2280</th>\n",
       "      <td>2011-08-29 08:24:00.000000107</td>\n",
       "      <td>8.9</td>\n",
       "      <td>2011-08-29 08:24:00</td>\n",
       "      <td>-73.936667</td>\n",
       "      <td>40.757815</td>\n",
       "      <td>0.000000</td>\n",
       "      <td>40.757815</td>\n",
       "      <td>1</td>\n",
       "      <td>4.102564</td>\n",
       "      <td>2011</td>\n",
       "      <td>8</td>\n",
       "      <td>29</td>\n",
       "      <td>0</td>\n",
       "      <td>8</td>\n",
       "    </tr>\n",
       "    <tr>\n",
       "      <th>2397</th>\n",
       "      <td>2012-06-24 17:11:10.000000100</td>\n",
       "      <td>45.0</td>\n",
       "      <td>2012-06-24 17:11:10</td>\n",
       "      <td>0.000000</td>\n",
       "      <td>0.000000</td>\n",
       "      <td>-74.010230</td>\n",
       "      <td>40.714553</td>\n",
       "      <td>2</td>\n",
       "      <td>27.243590</td>\n",
       "      <td>2012</td>\n",
       "      <td>6</td>\n",
       "      <td>24</td>\n",
       "      <td>6</td>\n",
       "      <td>17</td>\n",
       "    </tr>\n",
       "    <tr>\n",
       "      <th>4278</th>\n",
       "      <td>2015-04-07 23:33:02.000000500</td>\n",
       "      <td>7.0</td>\n",
       "      <td>2015-04-07 23:33:02</td>\n",
       "      <td>-73.972702</td>\n",
       "      <td>40.757423</td>\n",
       "      <td>0.000000</td>\n",
       "      <td>0.000000</td>\n",
       "      <td>1</td>\n",
       "      <td>2.884615</td>\n",
       "      <td>2015</td>\n",
       "      <td>4</td>\n",
       "      <td>7</td>\n",
       "      <td>1</td>\n",
       "      <td>23</td>\n",
       "    </tr>\n",
       "  </tbody>\n",
       "</table>\n",
       "</div>"
      ],
      "text/plain": [
       "                               key  fare_amount     pickup_datetime  \\\n",
       "472  2009-02-22 22:48:00.000000130          2.5 2009-02-22 22:48:00   \n",
       "1260 2011-03-10 20:25:00.000000490          5.7 2011-03-10 20:25:00   \n",
       "2280 2011-08-29 08:24:00.000000107          8.9 2011-08-29 08:24:00   \n",
       "2397 2012-06-24 17:11:10.000000100         45.0 2012-06-24 17:11:10   \n",
       "4278 2015-04-07 23:33:02.000000500          7.0 2015-04-07 23:33:02   \n",
       "\n",
       "      pickup_longitude  pickup_latitude  dropoff_longitude  dropoff_latitude  \\\n",
       "472           0.000000         0.000000         -74.005433         40.726685   \n",
       "1260        -73.973907        40.754743           0.000000          0.000000   \n",
       "2280        -73.936667        40.757815           0.000000         40.757815   \n",
       "2397          0.000000         0.000000         -74.010230         40.714553   \n",
       "4278        -73.972702        40.757423           0.000000          0.000000   \n",
       "\n",
       "      passenger_count  harvesine_distance  year  month  date  day_of_month  \\\n",
       "472                 2            0.000000  2009      2    22             6   \n",
       "1260                2            2.051282  2011      3    10             3   \n",
       "2280                1            4.102564  2011      8    29             0   \n",
       "2397                2           27.243590  2012      6    24             6   \n",
       "4278                1            2.884615  2015      4     7             1   \n",
       "\n",
       "      hour  \n",
       "472     22  \n",
       "1260    20  \n",
       "2280     8  \n",
       "2397    17  \n",
       "4278    23  "
      ]
     },
     "execution_count": 71,
     "metadata": {},
     "output_type": "execute_result"
    }
   ],
   "source": [
    "high_distance.head()"
   ]
  },
  {
   "cell_type": "code",
   "execution_count": 72,
   "metadata": {},
   "outputs": [],
   "source": [
    "train.update(high_distance)"
   ]
  },
  {
   "cell_type": "code",
   "execution_count": 73,
   "metadata": {},
   "outputs": [
    {
     "data": {
      "text/plain": [
       "key                   28667\n",
       "fare_amount           28667\n",
       "pickup_datetime       28667\n",
       "pickup_longitude      28667\n",
       "pickup_latitude       28667\n",
       "dropoff_longitude     28667\n",
       "dropoff_latitude      28667\n",
       "passenger_count       28667\n",
       "harvesine_distance    28667\n",
       "year                  28667\n",
       "month                 28667\n",
       "date                  28667\n",
       "day_of_month          28667\n",
       "hour                  28667\n",
       "dtype: int64"
      ]
     },
     "execution_count": 73,
     "metadata": {},
     "output_type": "execute_result"
    }
   ],
   "source": [
    "train[train['harvesine_distance'] ==0].count()"
   ]
  },
  {
   "cell_type": "markdown",
   "metadata": {},
   "source": [
    "#### MODELLING AND PREDICTION\n",
    "\n",
    "- FINALLY !! It's time for precdiction. We will assign the x and y values for prediction.\n",
    "- Now we are done with the EDA and will work on the Modeling and Prediction part on this dataset."
   ]
  },
  {
   "cell_type": "code",
   "execution_count": 74,
   "metadata": {},
   "outputs": [
    {
     "data": {
      "text/plain": [
       "Index(['key', 'fare_amount', 'pickup_datetime', 'pickup_longitude',\n",
       "       'pickup_latitude', 'dropoff_longitude', 'dropoff_latitude',\n",
       "       'passenger_count', 'harvesine_distance', 'year', 'month', 'date',\n",
       "       'day_of_month', 'hour'],\n",
       "      dtype='object')"
      ]
     },
     "execution_count": 74,
     "metadata": {},
     "output_type": "execute_result"
    }
   ],
   "source": [
    "train.columns"
   ]
  },
  {
   "cell_type": "code",
   "execution_count": 75,
   "metadata": {},
   "outputs": [
    {
     "data": {
      "text/plain": [
       "Index(['key', 'pickup_datetime', 'pickup_longitude', 'pickup_latitude',\n",
       "       'dropoff_longitude', 'dropoff_latitude', 'passenger_count',\n",
       "       'harvesine_distance', 'year', 'month', 'date', 'day_of_month', 'hour'],\n",
       "      dtype='object')"
      ]
     },
     "execution_count": 75,
     "metadata": {},
     "output_type": "execute_result"
    }
   ],
   "source": [
    "test.columns"
   ]
  },
  {
   "cell_type": "code",
   "execution_count": 76,
   "metadata": {},
   "outputs": [],
   "source": [
    "#lets not consider the pickup_datetime\n",
    "train = train.drop('pickup_datetime',axis = 1)\n",
    "test = test.drop('pickup_datetime',axis =1)\n",
    "\n",
    "train = train.drop('key', axis =1)\n",
    "test = test.drop('key', axis = 1)"
   ]
  },
  {
   "cell_type": "code",
   "execution_count": 77,
   "metadata": {},
   "outputs": [],
   "source": [
    "y_train = train['fare_amount']\n",
    "#y_test = test['fare_amount']\n",
    "X_train = train.drop('fare_amount',axis =1)\n",
    "X_test = test"
   ]
  },
  {
   "cell_type": "code",
   "execution_count": 78,
   "metadata": {},
   "outputs": [
    {
     "data": {
      "text/html": [
       "<div>\n",
       "<style scoped>\n",
       "    .dataframe tbody tr th:only-of-type {\n",
       "        vertical-align: middle;\n",
       "    }\n",
       "\n",
       "    .dataframe tbody tr th {\n",
       "        vertical-align: top;\n",
       "    }\n",
       "\n",
       "    .dataframe thead th {\n",
       "        text-align: right;\n",
       "    }\n",
       "</style>\n",
       "<table border=\"1\" class=\"dataframe\">\n",
       "  <thead>\n",
       "    <tr style=\"text-align: right;\">\n",
       "      <th></th>\n",
       "      <th>pickup_longitude</th>\n",
       "      <th>pickup_latitude</th>\n",
       "      <th>dropoff_longitude</th>\n",
       "      <th>dropoff_latitude</th>\n",
       "      <th>passenger_count</th>\n",
       "      <th>harvesine_distance</th>\n",
       "      <th>year</th>\n",
       "      <th>month</th>\n",
       "      <th>date</th>\n",
       "      <th>day_of_month</th>\n",
       "      <th>hour</th>\n",
       "    </tr>\n",
       "  </thead>\n",
       "  <tbody>\n",
       "    <tr>\n",
       "      <th>0</th>\n",
       "      <td>-73.973320</td>\n",
       "      <td>40.763805</td>\n",
       "      <td>-73.981430</td>\n",
       "      <td>40.743835</td>\n",
       "      <td>1</td>\n",
       "      <td>2.323260</td>\n",
       "      <td>2015</td>\n",
       "      <td>1</td>\n",
       "      <td>27</td>\n",
       "      <td>1</td>\n",
       "      <td>13</td>\n",
       "    </tr>\n",
       "    <tr>\n",
       "      <th>1</th>\n",
       "      <td>-73.986862</td>\n",
       "      <td>40.719383</td>\n",
       "      <td>-73.998886</td>\n",
       "      <td>40.739201</td>\n",
       "      <td>1</td>\n",
       "      <td>2.425353</td>\n",
       "      <td>2015</td>\n",
       "      <td>1</td>\n",
       "      <td>27</td>\n",
       "      <td>1</td>\n",
       "      <td>13</td>\n",
       "    </tr>\n",
       "    <tr>\n",
       "      <th>2</th>\n",
       "      <td>-73.982524</td>\n",
       "      <td>40.751260</td>\n",
       "      <td>-73.979654</td>\n",
       "      <td>40.746139</td>\n",
       "      <td>1</td>\n",
       "      <td>0.618628</td>\n",
       "      <td>2011</td>\n",
       "      <td>10</td>\n",
       "      <td>8</td>\n",
       "      <td>5</td>\n",
       "      <td>11</td>\n",
       "    </tr>\n",
       "    <tr>\n",
       "      <th>3</th>\n",
       "      <td>-73.981160</td>\n",
       "      <td>40.767807</td>\n",
       "      <td>-73.990448</td>\n",
       "      <td>40.751635</td>\n",
       "      <td>1</td>\n",
       "      <td>1.961033</td>\n",
       "      <td>2012</td>\n",
       "      <td>12</td>\n",
       "      <td>1</td>\n",
       "      <td>5</td>\n",
       "      <td>21</td>\n",
       "    </tr>\n",
       "    <tr>\n",
       "      <th>4</th>\n",
       "      <td>-73.966046</td>\n",
       "      <td>40.789775</td>\n",
       "      <td>-73.988565</td>\n",
       "      <td>40.744427</td>\n",
       "      <td>1</td>\n",
       "      <td>5.387301</td>\n",
       "      <td>2012</td>\n",
       "      <td>12</td>\n",
       "      <td>1</td>\n",
       "      <td>5</td>\n",
       "      <td>21</td>\n",
       "    </tr>\n",
       "  </tbody>\n",
       "</table>\n",
       "</div>"
      ],
      "text/plain": [
       "   pickup_longitude  pickup_latitude  dropoff_longitude  dropoff_latitude  \\\n",
       "0        -73.973320        40.763805         -73.981430         40.743835   \n",
       "1        -73.986862        40.719383         -73.998886         40.739201   \n",
       "2        -73.982524        40.751260         -73.979654         40.746139   \n",
       "3        -73.981160        40.767807         -73.990448         40.751635   \n",
       "4        -73.966046        40.789775         -73.988565         40.744427   \n",
       "\n",
       "   passenger_count  harvesine_distance  year  month  date  day_of_month  hour  \n",
       "0                1            2.323260  2015      1    27             1    13  \n",
       "1                1            2.425353  2015      1    27             1    13  \n",
       "2                1            0.618628  2011     10     8             5    11  \n",
       "3                1            1.961033  2012     12     1             5    21  \n",
       "4                1            5.387301  2012     12     1             5    21  "
      ]
     },
     "execution_count": 78,
     "metadata": {},
     "output_type": "execute_result"
    }
   ],
   "source": [
    "X_test.head()"
   ]
  },
  {
   "cell_type": "markdown",
   "metadata": {},
   "source": [
    "### Linear Regression Model\n",
    "\n",
    "Let's use the Linear regression model for our prediction. We will use this model and then meaured its error using Mean Squared Error."
   ]
  },
  {
   "cell_type": "code",
   "execution_count": 79,
   "metadata": {},
   "outputs": [],
   "source": [
    "#lets learn using Linear Model\n",
    "\n",
    "from sklearn import linear_model\n",
    "from sklearn.model_selection import train_test_split\n",
    "#X_train, X_test, y_train, y_test = train_test_split(x, y, test_size = 0.25, random_state=1)\n",
    "slr = linear_model.LinearRegression()\n",
    "slr.fit(X_train, y_train)\n",
    "y_train_pred = slr.predict(X_train)\n",
    "y_test_pred = slr.predict(X_test)"
   ]
  },
  {
   "cell_type": "code",
   "execution_count": 80,
   "metadata": {},
   "outputs": [
    {
     "name": "stdout",
     "output_type": "stream",
     "text": [
      "Mean Sqaured Error for Training data is :  42.558473678865994\n"
     ]
    }
   ],
   "source": [
    "#now our model is trained\n",
    "#we will find the accuracy for this model using Root Mean Square error\n",
    "from sklearn.metrics import r2_score\n",
    "from sklearn.metrics import mean_squared_error\n",
    "\n",
    "\n",
    "y_train_err = mean_squared_error(y_train, y_train_pred)\n",
    "\n",
    "print('Mean Sqaured Error for Training data is : ',(y_train_err))"
   ]
  },
  {
   "cell_type": "markdown",
   "metadata": {},
   "source": [
    "### Random Forest Regressor Model\n",
    "\n",
    "- Now from the above error measurement result we can see this model has very high error rate. This implies this model does not best fir this problem. We will now use the Random Forest Regressor model and find the error value.\n",
    "- Below test results shows the Random Forest model is way better than Linear model with less error value."
   ]
  },
  {
   "cell_type": "code",
   "execution_count": 81,
   "metadata": {},
   "outputs": [
    {
     "name": "stderr",
     "output_type": "stream",
     "text": [
      "C:\\Users\\sandeepkumar8\\AppData\\Local\\Continuum\\anaconda3\\lib\\site-packages\\sklearn\\ensemble\\forest.py:248: FutureWarning: The default value of n_estimators will change from 10 in version 0.20 to 100 in 0.22.\n",
      "  \"10 in version 0.20 to 100 in 0.22.\", FutureWarning)\n"
     ]
    }
   ],
   "source": [
    "#let's train our model using Random Forest Regressor\n",
    "from sklearn.ensemble import RandomForestRegressor\n",
    "rf = RandomForestRegressor()\n",
    "rf.fit(X_train,y_train)\n",
    "\n",
    "y_train_pred = rf.predict(X_train)\n",
    "y_test_pred = rf.predict(X_test)"
   ]
  },
  {
   "cell_type": "code",
   "execution_count": 82,
   "metadata": {},
   "outputs": [
    {
     "name": "stdout",
     "output_type": "stream",
     "text": [
      "Mean Sqaured Error for Training data is :  3.8708877052238466\n"
     ]
    }
   ],
   "source": [
    "y_train_err = mean_squared_error(y_train, y_train_pred)\n",
    "\n",
    "print('Mean Sqaured Error for Training data is : ',(y_train_err))"
   ]
  },
  {
   "cell_type": "code",
   "execution_count": null,
   "metadata": {},
   "outputs": [],
   "source": []
  }
 ],
 "metadata": {
  "kernelspec": {
   "display_name": "Python 3",
   "language": "python",
   "name": "python3"
  },
  "language_info": {
   "codemirror_mode": {
    "name": "ipython",
    "version": 3
   },
   "file_extension": ".py",
   "mimetype": "text/x-python",
   "name": "python",
   "nbconvert_exporter": "python",
   "pygments_lexer": "ipython3",
   "version": "3.6.4"
  }
 },
 "nbformat": 4,
 "nbformat_minor": 2
}
